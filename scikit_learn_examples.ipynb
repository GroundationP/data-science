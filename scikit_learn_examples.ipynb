{
 "cells": [
  {
   "cell_type": "code",
   "execution_count": null,
   "metadata": {
    "collapsed": true
   },
   "outputs": [],
   "source": []
  },
  {
   "cell_type": "markdown",
   "metadata": {},
   "source": [
    "# Scikit Learn"
   ]
  },
  {
   "cell_type": "markdown",
   "metadata": {},
   "source": [
    "## 1) Import de dataset"
   ]
  },
  {
   "cell_type": "code",
   "execution_count": 1,
   "metadata": {
    "collapsed": true
   },
   "outputs": [],
   "source": [
    "from sklearn import datasets"
   ]
  },
  {
   "cell_type": "code",
   "execution_count": 2,
   "metadata": {
    "collapsed": true
   },
   "outputs": [],
   "source": [
    "digits = datasets.load_digits()\n",
    "X = digits.data\n",
    "y = digits.target\n",
    "\n",
    "boston = datasets.load_boston()\n",
    "X = boston[\"data\"]\n",
    "y = boston[\"target\"]\n",
    "\n"
   ]
  },
  {
   "cell_type": "markdown",
   "metadata": {},
   "source": [
    "## 2) separer le jeu d'apprentissage du jeu de test"
   ]
  },
  {
   "cell_type": "code",
   "execution_count": 3,
   "metadata": {
    "collapsed": true
   },
   "outputs": [],
   "source": [
    "from sklearn.cross_validation import train_test_split\n"
   ]
  },
  {
   "cell_type": "code",
   "execution_count": 4,
   "metadata": {
    "collapsed": true
   },
   "outputs": [],
   "source": [
    "X_train, X_test, y_train, y_test = train_test_split(X, y, test_size=0.33)"
   ]
  },
  {
   "cell_type": "markdown",
   "metadata": {},
   "source": [
    "## 3) Standardiser les valeurs"
   ]
  },
  {
   "cell_type": "code",
   "execution_count": 5,
   "metadata": {
    "collapsed": true
   },
   "outputs": [],
   "source": [
    "from sklearn.preprocessing import StandardScaler\n",
    "scaler = StandardScaler()\n",
    "scaler.fit(X_train)                 # Il ne faut fiter que sur les data d'entrainement\n",
    "X_train = scaler.transform(X_train)\n",
    "X_test  = scaler.transform(X_test)  # apply same transformation to test data"
   ]
  },
  {
   "cell_type": "markdown",
   "metadata": {},
   "source": [
    "## 4) choisir un algo et le tester\n",
    "### exemple : Support Vector Machine"
   ]
  },
  {
   "cell_type": "code",
   "execution_count": 6,
   "metadata": {
    "collapsed": true
   },
   "outputs": [],
   "source": [
    "from sklearn import svm\n",
    "svr = svm.SVR(kernel='linear')"
   ]
  },
  {
   "cell_type": "code",
   "execution_count": 7,
   "metadata": {
    "collapsed": false
   },
   "outputs": [
    {
     "data": {
      "text/plain": [
       "array([ 0.7002155 ,  0.31447767, -0.44395345])"
      ]
     },
     "execution_count": 7,
     "metadata": {},
     "output_type": "execute_result"
    }
   ],
   "source": [
    "from sklearn import cross_validation\n",
    "cross_validation.cross_val_score(svr, X, y, n_jobs=-1)"
   ]
  },
  {
   "cell_type": "markdown",
   "metadata": {},
   "source": [
    "## 5) aller au delà des paramètres par défaut avec un grid search"
   ]
  },
  {
   "cell_type": "code",
   "execution_count": 8,
   "metadata": {
    "collapsed": false
   },
   "outputs": [
    {
     "name": "stdout",
     "output_type": "stream",
     "text": [
      "0.523665202066 SVR(C=1.0, cache_size=200, coef0=0.0, degree=3, epsilon=0.1, gamma=0.1,\n",
      "  kernel='rbf', max_iter=-1, shrinking=True, tol=0.001, verbose=False)\n"
     ]
    }
   ],
   "source": [
    "from sklearn import grid_search\n",
    "parameters = {  'gamma' : [0.01, 0.1, 0.5]           }\n",
    "grid       = grid_search.GridSearchCV(svm.SVR(), parameters, n_jobs=-1)\n",
    "grid.fit(X_train, y_train)\n",
    "print grid.best_score_, grid.best_estimator_"
   ]
  },
  {
   "cell_type": "markdown",
   "metadata": {},
   "source": [
    "## 5.1) affiner le grid search"
   ]
  },
  {
   "cell_type": "code",
   "execution_count": 9,
   "metadata": {
    "collapsed": false
   },
   "outputs": [
    {
     "name": "stdout",
     "output_type": "stream",
     "text": [
      "0.602548078616 SVR(C=1.5, cache_size=200, coef0=0.0, degree=3, epsilon=0.1, gamma=0.1,\n",
      "  kernel='rbf', max_iter=-1, shrinking=True, tol=0.001, verbose=False)\n"
     ]
    }
   ],
   "source": [
    "parameters = {  'C'      : [0.5, 1, 1.5]             ,\n",
    "                'gamma'  : [0.5, 0.1, 0.15]      }\n",
    "grid = grid_search.GridSearchCV(svm.SVR(), parameters, n_jobs=-1)\n",
    "grid.fit(X_train, y_train)\n",
    "print grid.best_score_, grid.best_estimator_"
   ]
  },
  {
   "cell_type": "code",
   "execution_count": 10,
   "metadata": {
    "collapsed": false
   },
   "outputs": [
    {
     "name": "stdout",
     "output_type": "stream",
     "text": [
      "0.693803956235 SVR(C=2.5, cache_size=200, coef0=0.0, degree=3, epsilon=0.1, gamma=0.05,\n",
      "  kernel='rbf', max_iter=-1, shrinking=True, tol=0.001, verbose=False)\n"
     ]
    }
   ],
   "source": [
    "parameters = {  'C'      : [1.5, 2, 2.5]   ,\n",
    "                'kernel' : ['rbf', 'poly', 'sigmoid'],\n",
    "                'gamma'  : [ 0.05, 0.10, 0.15] }\n",
    "grid = grid_search.GridSearchCV(svm.SVR(), parameters, n_jobs=-1)\n",
    "grid.fit(X_train, y_train)\n",
    "print grid.best_score_, grid.best_estimator_\n"
   ]
  },
  {
   "cell_type": "code",
   "execution_count": 11,
   "metadata": {
    "collapsed": false
   },
   "outputs": [
    {
     "name": "stdout",
     "output_type": "stream",
     "text": [
      "0.726023263049 SVR(C=4, cache_size=200, coef0=0.0, degree=1, epsilon=0.1, gamma=0.05,\n",
      "  kernel='rbf', max_iter=-1, shrinking=True, tol=0.001, verbose=False)\n"
     ]
    }
   ],
   "source": [
    "parameters = {  'C'       : [2.5, 3, 4]   ,\n",
    "                'kernel'  : ['rbf', 'poly', 'sigmoid'],\n",
    "                'gamma'   : [ 0.01, 0.05, 0.07],\n",
    "                 \"degree\" : [1,3,5]}\n",
    "grid = grid_search.GridSearchCV(svm.SVR(), parameters, n_jobs=-1)\n",
    "grid.fit(X_train, y_train)\n",
    "print grid.best_score_, grid.best_estimator_\n"
   ]
  },
  {
   "cell_type": "code",
   "execution_count": 12,
   "metadata": {
    "collapsed": false
   },
   "outputs": [
    {
     "name": "stdout",
     "output_type": "stream",
     "text": [
      "0.757963510038 SVR(C=7, cache_size=200, coef0=0.0, degree=1, epsilon=0.1, gamma=0.03,\n",
      "  kernel='rbf', max_iter=-1, shrinking=True, tol=0.001, verbose=False)\n"
     ]
    }
   ],
   "source": [
    "parameters = {  'C'       : [4, 5, 6, 7]   ,\n",
    "                'kernel'  : ['rbf'],\n",
    "                'gamma'   : [ 0.03, 0.05, 0.07],\n",
    "                 \"degree\" : [1,2, 3]}\n",
    "grid = grid_search.GridSearchCV(svm.SVR(), parameters, n_jobs=-1)\n",
    "grid.fit(X_train, y_train)\n",
    "print grid.best_score_, grid.best_estimator_\n"
   ]
  },
  {
   "cell_type": "code",
   "execution_count": 13,
   "metadata": {
    "collapsed": false
   },
   "outputs": [
    {
     "name": "stdout",
     "output_type": "stream",
     "text": [
      "0.786655681307 SVR(C=15, cache_size=200, coef0=0.0, degree=1, epsilon=0.1, gamma=0.04,\n",
      "  kernel='rbf', max_iter=-1, shrinking=True, tol=0.001, verbose=False)\n"
     ]
    }
   ],
   "source": [
    "parameters = {  'C'       : [7, 10, 15]   ,\n",
    "                'kernel'  : ['rbf'],\n",
    "                'gamma'   : [ 0.02, 0.03, 0.04],\n",
    "                 \"degree\" : [1,2]}\n",
    "grid = grid_search.GridSearchCV(svm.SVR(), parameters, n_jobs=-1)\n",
    "grid.fit(X_train, y_train)\n",
    "print grid.best_score_, grid.best_estimator_\n"
   ]
  },
  {
   "cell_type": "code",
   "execution_count": 14,
   "metadata": {
    "collapsed": false
   },
   "outputs": [
    {
     "name": "stdout",
     "output_type": "stream",
     "text": [
      "0.79642568833 SVR(C=30, cache_size=200, coef0=0.0, degree=1, epsilon=0.15, gamma=0.03,\n",
      "  kernel='rbf', max_iter=-1, shrinking=True, tol=0.001, verbose=False)\n"
     ]
    }
   ],
   "source": [
    "parameters = {  'C'       : [10, 15, 20, 30]   ,\n",
    "                'kernel'  : ['rbf'],\n",
    "                'gamma'   : [ 0.03],\n",
    "                  \"epsilon\" : [0.01, 0.05, 0.15],\n",
    "                 \"degree\" : [1,2]}\n",
    "grid = grid_search.GridSearchCV(svm.SVR(), parameters, n_jobs=-1)\n",
    "grid.fit(X_train, y_train)\n",
    "print grid.best_score_, grid.best_estimator_\n"
   ]
  },
  {
   "cell_type": "code",
   "execution_count": 15,
   "metadata": {
    "collapsed": false
   },
   "outputs": [
    {
     "name": "stdout",
     "output_type": "stream",
     "text": [
      "0.80177386702 SVR(C=100, cache_size=200, coef0=0.0, degree=1, epsilon=1, gamma=0.03,\n",
      "  kernel='rbf', max_iter=-1, shrinking=True, tol=0.001, verbose=False)\n"
     ]
    }
   ],
   "source": [
    "parameters = {  'C'       : [30, 50, 100]   ,\n",
    "                'kernel'  : ['rbf'],\n",
    "                'gamma'   : [ 0.03],\n",
    "                  \"epsilon\" : [0.01, 0.05, 0.15, 0.5, 0.9, 1],\n",
    "                 \"degree\" : [1,2]}\n",
    "grid = grid_search.GridSearchCV(svm.SVR(), parameters, n_jobs=-1)\n",
    "grid.fit(X_train, y_train)\n",
    "print grid.best_score_, grid.best_estimator_\n"
   ]
  },
  {
   "cell_type": "code",
   "execution_count": 16,
   "metadata": {
    "collapsed": false
   },
   "outputs": [
    {
     "name": "stdout",
     "output_type": "stream",
     "text": [
      "0.809282626442 SVR(C=190, cache_size=200, coef0=0.0, degree=1, epsilon=2.5, gamma=0.03,\n",
      "  kernel='rbf', max_iter=-1, shrinking=True, tol=0.001, verbose=False)\n"
     ]
    }
   ],
   "source": [
    "parameters = {  'C'       : [190, 200, 250, 260]   ,\n",
    "                'kernel'  : ['rbf'],\n",
    "                'gamma'   : [ 0.03],\n",
    "                  \"epsilon\" : [1.5, 2, 2.5],\n",
    "                 \"degree\" : [1,2]}\n",
    "grid = grid_search.GridSearchCV(svm.SVR(), parameters, n_jobs=-1)\n",
    "grid.fit(X_train, y_train)\n",
    "print grid.best_score_, grid.best_estimator_\n"
   ]
  },
  {
   "cell_type": "markdown",
   "metadata": {},
   "source": [
    "# 6) tester tous les algorithmes"
   ]
  },
  {
   "cell_type": "code",
   "execution_count": 17,
   "metadata": {
    "collapsed": false
   },
   "outputs": [],
   "source": [
    "def get_sklearn_algorithms(verbose = False):\n",
    "    \"\"\"\n",
    "    Explore all submodule of sklearn and fetch functions having a 'fit' attribute.\n",
    "    \n",
    "    Be careful : some functions are not models (ex : crossvalidators)\n",
    "    Parameters :\n",
    "        debug = print or not stuff on console\n",
    "    Return :\n",
    "        dict : { module : [ fit_functions] }\n",
    "    \"\"\"\n",
    "    from collections import defaultdict\n",
    "    import importlib\n",
    "    import sklearn\n",
    "    algos = defaultdict(list)\n",
    "    if verbose : print dir(sklearn)\n",
    "    for nom_module in dir(sklearn):    \n",
    "        if verbose : print nom_module\n",
    "        try:\n",
    "            to_import = \"sklearn.%s\"%nom_module\n",
    "            module    = importlib.import_module(to_import)\n",
    "            for nom_fonction in dir(module):\n",
    "                fonction = getattr(module, nom_fonction)\n",
    "                if hasattr(fonction, \"fit\"):\n",
    "                    if verbose : print \" nom algorithme  = \", nom_fonction\n",
    "                    algos[nom_module].append(fonction)                                            \n",
    "        except Exception as e:\n",
    "            if verbose : print e\n",
    "        if verbose: print \"=\"*30\n",
    "    return algos"
   ]
  },
  {
   "cell_type": "code",
   "execution_count": 18,
   "metadata": {
    "collapsed": false
   },
   "outputs": [
    {
     "name": "stdout",
     "output_type": "stream",
     "text": [
      "\n",
      "===> grid_search\n",
      "GridSearchCV,RandomizedSearchCV\n",
      "\n",
      "===> svm\n",
      "LinearSVC,LinearSVR,NuSVC,NuSVR,OneClassSVM,SVC,SVR,so\n",
      "\n",
      "===> linear_model\n",
      "ARDRegression,BayesianRidge,ElasticNet,ElasticNetCV,Lars,LarsCV,Lasso,LassoCV,LassoLars,LassoLarsCV,LassoLarsIC,LinearRegression,LogisticRegression,LogisticRegressionCV,MultiTaskElasticNet,MultiTaskElasticNetCV,MultiTaskLasso,MultiTaskLassoCV,OrthogonalMatchingPursuit,OrthogonalMatchingPursuitCV,PassiveAggressiveClassifier,PassiveAggressiveRegressor,Perceptron,RANSACRegressor,RandomizedLasso,RandomizedLogisticRegression,Ridge,RidgeCV,RidgeClassifier,RidgeClassifierCV,SGDClassifier,SGDRegressor,TheilSenRegressor\n",
      "\n",
      "===> multiclass\n",
      "LabelBinarizer,OneVsOneClassifier,OneVsRestClassifier,OutputCodeClassifier,_ConstantPredictor\n",
      "\n",
      "===> feature_extraction\n",
      "DictVectorizer,FeatureHasher\n",
      "\n",
      "===> preprocessing\n",
      "Binarizer,FunctionTransformer,Imputer,KernelCenterer,LabelBinarizer,LabelEncoder,MaxAbsScaler,MinMaxScaler,MultiLabelBinarizer,Normalizer,OneHotEncoder,PolynomialFeatures,RobustScaler,StandardScaler\n",
      "\n",
      "===> feature_selection\n",
      "GenericUnivariateSelect,RFE,RFECV,SelectFdr,SelectFpr,SelectFromModel,SelectFwe,SelectKBest,SelectPercentile,VarianceThreshold\n"
     ]
    }
   ],
   "source": [
    "algos = get_sklearn_algorithms()\n",
    "for key in algos.keys():\n",
    "    print \"\\n===>\",key\n",
    "    algos_ = []\n",
    "    for algo in algos[key]:\n",
    "        classe_algo = str(algo)\n",
    "        nom_algo    = classe_algo[str(classe_algo).rfind(\".\")+1:str(classe_algo).rfind(\"'\")]\n",
    "        algos_.append(nom_algo)\n",
    "    print \",\".join(algos_)"
   ]
  },
  {
   "cell_type": "code",
   "execution_count": 19,
   "metadata": {
    "collapsed": true
   },
   "outputs": [],
   "source": [
    "import warnings\n",
    "warnings.filterwarnings(\"ignore\", category=DeprecationWarning) "
   ]
  },
  {
   "cell_type": "code",
   "execution_count": 20,
   "metadata": {
    "collapsed": false,
    "scrolled": true
   },
   "outputs": [
    {
     "name": "stdout",
     "output_type": "stream",
     "text": [
      "__init__() takes at least 3 arguments (1 given)\n",
      "==============================\n",
      "__init__() takes at least 3 arguments (1 given)\n",
      "==============================\n",
      "Linear Support Vector Cla\n",
      "Algo de classification\n",
      "==============================\n",
      "Linear Support Vector Reg\n",
      "0.624220935517\n",
      "==============================\n",
      "Nu-Support Vector Classif\n",
      "Algo de classification\n",
      "==============================\n",
      "Nu Support Vector Regress\n",
      "0.564880902431\n",
      "==============================\n",
      "Unsupervised Outlier Dete\n",
      "'OneClassSVM' object has no attribute 'score'\n",
      "==============================\n",
      "C-Support Vector Classifi\n",
      "Algo de classification\n",
      "==============================\n",
      "Epsilon-Support Vector Re\n",
      "0.586548904065\n",
      "==============================\n",
      "'module' object is not callable\n",
      "==============================\n",
      "Bayesian ARD regression.\n",
      "0.688404936772\n",
      "==============================\n",
      "Bayesian ridge regression\n",
      "0.692460878296\n",
      "==============================\n",
      "Linear regression with co\n",
      "0.590802318843\n",
      "==============================\n",
      "Elastic Net model with it\n",
      "0.69329989144\n",
      "==============================\n",
      "Least Angle Regression mo\n",
      "0.694111520272\n",
      "==============================\n",
      "Cross-validated Least Ang\n",
      "0.694111520272\n",
      "==============================\n",
      "Linear Model trained with\n",
      "0.616216267602\n",
      "==============================\n",
      "Lasso linear model with i\n",
      "0.693928585149\n",
      "==============================\n",
      "Lasso model fit with Leas\n",
      "-0.000756462157087\n",
      "==============================\n",
      "Cross-validated Lasso, us\n",
      "0.694111520272\n",
      "==============================\n",
      "Lasso model fit with Lars\n",
      "0.69270810921\n",
      "==============================\n",
      "Ordinary least squar\n",
      "0.694111520272\n",
      "==============================\n",
      "Logistic Regression (aka\n",
      "Algo de classification\n",
      "==============================\n",
      "Logistic Regression CV (a\n",
      "Algo de classification\n",
      "==============================\n",
      "Multi-task ElasticNet mod\n",
      "For mono-task outputs, use ElasticNet\n",
      "==============================\n",
      "Multi-task L1/L2 ElasticN\n",
      "For mono-task outputs, use ElasticNetCV\n",
      "==============================\n",
      "Multi-task Lasso model tr\n",
      "For mono-task outputs, use ElasticNet\n",
      "==============================\n",
      "Multi-task L1/L2 Lasso wi\n",
      "For mono-task outputs, use LassoCV\n",
      "==============================\n",
      "Orthogonal Matching Pursu\n",
      "0.548807496392\n",
      "==============================\n",
      "Cross-validated Orthogona\n",
      "0.661282070857\n",
      "==============================\n",
      "Passive Aggressive Classi\n",
      "Algo de classification\n",
      "==============================\n",
      "Passive Aggressive Regres\n",
      "0.570369858592\n",
      "==============================\n",
      "Perceptron\n",
      "\n",
      "    Read more\n",
      "Algo de classification\n",
      "==============================\n",
      "RANSAC (RANdom SAmple Con\n",
      "0.0384954870014\n",
      "==============================\n",
      "Randomized Lasso.\n",
      "\n",
      "    Ra\n"
     ]
    },
    {
     "name": "stderr",
     "output_type": "stream",
     "text": [
      "/Users/romain/anaconda/lib/python2.7/site-packages/scipy/linalg/basic.py:884: RuntimeWarning: internal gelsd driver lwork query error, required iwork dimension not returned. This is likely the result of LAPACK bug 0038, fixed in LAPACK 3.2.2 (released July 21, 2010). Falling back to 'gelss' driver.\n",
      "  warnings.warn(mesg, RuntimeWarning)\n"
     ]
    },
    {
     "name": "stdout",
     "output_type": "stream",
     "text": [
      "'RandomizedLasso' object has no attribute 'score'\n",
      "==============================\n",
      "Randomized Logistic Regre\n",
      "Algo de classification\n",
      "==============================\n",
      "Linear least squares with\n",
      "0.693906053658\n",
      "==============================\n",
      "Ridge regression with bui\n",
      "0.690917348418\n",
      "==============================\n",
      "Classifier using Ridge re\n",
      "Algo de classification\n",
      "==============================\n",
      "Ridge classifier with bui\n",
      "Algo de classification\n",
      "==============================\n",
      "Linear classifiers (SVM,\n",
      "Algo de classification\n",
      "==============================\n",
      "Linear model fitted by mi\n",
      "0.672402717103\n",
      "==============================\n",
      "Theil-Sen Estimator\n",
      "0.469760395553\n",
      "==============================\n",
      "Binarize labels in a one-\n",
      "fit() takes exactly 2 arguments (3 given)\n",
      "==============================\n",
      "__init__() takes at least 2 arguments (1 given)\n",
      "==============================\n",
      "__init__() takes at least 2 arguments (1 given)\n",
      "==============================\n",
      "__init__() takes at least 2 arguments (1 given)\n",
      "==============================\n",
      "'NoneType' object has no attribute 'find'\n",
      "==============================\n",
      "Transforms lists of featu\n",
      "'numpy.ndarray' object has no attribute 'iteritems\n",
      "==============================\n",
      "Implements feature hashin\n",
      "'FeatureHasher' object has no attribute 'score'\n",
      "==============================\n",
      "Binarize data (set featur\n",
      "'Binarizer' object has no attribute 'score'\n",
      "==============================\n",
      "Constructs a transformer\n",
      "'FunctionTransformer' object has no attribute 'sco\n",
      "==============================\n",
      "Imputation transformer fo\n",
      "'Imputer' object has no attribute 'score'\n",
      "==============================\n",
      "Center a kernel matrix\n",
      "'KernelCenterer' object has no attribute 'score'\n",
      "==============================\n",
      "Binarize labels in a one-\n",
      "fit() takes exactly 2 arguments (3 given)\n",
      "==============================\n",
      "Encode labels with value\n",
      "fit() takes exactly 2 arguments (3 given)\n",
      "==============================\n",
      "Scale each feature by its\n",
      "'MaxAbsScaler' object has no attribute 'score'\n",
      "==============================\n",
      "Transforms features by sc\n",
      "'MinMaxScaler' object has no attribute 'score'\n",
      "==============================\n",
      "Transform between iterabl\n",
      "fit() takes exactly 2 arguments (3 given)\n",
      "==============================\n",
      "Normalize samples individ\n",
      "'Normalizer' object has no attribute 'score'\n",
      "==============================\n",
      "Encode categorical intege\n",
      "X needs to contain only non-negative integers.\n",
      "==============================\n",
      "Generate polynomial and i\n",
      "'PolynomialFeatures' object has no attribute 'scor\n",
      "==============================\n",
      "Scale features using stat\n",
      "'RobustScaler' object has no attribute 'score'\n",
      "==============================\n",
      "Standardize features by r\n",
      "'StandardScaler' object has no attribute 'score'\n",
      "==============================\n",
      "Univariate feature select\n",
      "'GenericUnivariateSelect' object has no attribute \n",
      "==============================\n",
      "__init__() takes at least 2 arguments (1 given)\n",
      "==============================\n",
      "__init__() takes at least 2 arguments (1 given)\n",
      "==============================\n",
      "Filter\n",
      "'SelectFdr' object has no attribute 'score'\n",
      "==============================\n",
      "Filter\n",
      "'SelectFpr' object has no attribute 'score'\n",
      "==============================\n",
      "__init__() takes at least 2 arguments (1 given)\n",
      "==============================\n",
      "Filter\n",
      "'SelectFwe' object has no attribute 'score'\n",
      "==============================\n",
      "Select features according\n",
      "'SelectKBest' object has no attribute 'score'\n",
      "==============================\n",
      "Select features according\n",
      "'SelectPercentile' object has no attribute 'score'\n",
      "==============================\n",
      "Feature selector that rem\n",
      "'VarianceThreshold' object has no attribute 'score\n",
      "==============================\n"
     ]
    }
   ],
   "source": [
    "performances               = {}\n",
    "modeles_a_tester           = []\n",
    "classes_de_models_a_tester = algos.keys()\n",
    "for classe_de_models in classes_de_models_a_tester:\n",
    "    modeles_a_tester.extend(algos[classe_de_models])\n",
    "    \n",
    "for pointeur_vers_algo in modeles_a_tester:\n",
    "    try:\n",
    "        algorithme = pointeur_vers_algo()\n",
    "        doc        = algorithme.__doc__\n",
    "        name       = doc[:min(doc.find(\":\"), 25)].strip()\n",
    "        print name\n",
    "        algorithme.fit(X_train, y_train)\n",
    "        performance = algorithme.score(X_test, y_test)\n",
    "        print performance\n",
    "        if 0<performance and performance<1:\n",
    "            performances[name] = [performance]\n",
    "    except Exception as e:\n",
    "        if \"label\" in str(e): print \"Algo de classification\"\n",
    "        else                : print str(e)[:50]\n",
    "    print \"=\"*30\n",
    "    "
   ]
  },
  {
   "cell_type": "code",
   "execution_count": 21,
   "metadata": {
    "collapsed": false
   },
   "outputs": [
    {
     "data": {
      "text/plain": [
       "{'Bayesian ARD regression.': [0.68840493677189873],\n",
       " 'Bayesian ridge regression': [0.69246087829635383],\n",
       " 'Cross-validated Lasso, us': [0.69411152027190837],\n",
       " 'Cross-validated Least Ang': [0.69411152027190837],\n",
       " 'Cross-validated Orthogona': [0.66128207085683877],\n",
       " 'Elastic Net model with it': [0.69329989144004933],\n",
       " 'Epsilon-Support Vector Re': [0.58654890406520588],\n",
       " 'Lasso linear model with i': [0.69392858514936284],\n",
       " 'Lasso model fit with Lars': [0.69270810920965797],\n",
       " 'Least Angle Regression mo': [0.69411152027190837],\n",
       " 'Linear Model trained with': [0.6162162676016103],\n",
       " 'Linear Support Vector Reg': [0.62422093551749436],\n",
       " 'Linear least squares with': [0.69390605365792324],\n",
       " 'Linear model fitted by mi': [0.67240271710269794],\n",
       " 'Linear regression with co': [0.59080231884313761],\n",
       " 'Nu Support Vector Regress': [0.56488090243079181],\n",
       " 'Ordinary least squar': [0.69411152027190792],\n",
       " 'Orthogonal Matching Pursu': [0.54880749639222981],\n",
       " 'Passive Aggressive Regres': [0.57036985859197564],\n",
       " 'RANSAC (RANdom SAmple Con': [0.038495487001446116],\n",
       " 'Ridge regression with bui': [0.69091734841767682],\n",
       " 'Theil-Sen Estimator': [0.46976039555311527]}"
      ]
     },
     "execution_count": 21,
     "metadata": {},
     "output_type": "execute_result"
    }
   ],
   "source": [
    "performances"
   ]
  },
  {
   "cell_type": "markdown",
   "metadata": {},
   "source": [
    "# 7) Faire des graphiques de comparaisons"
   ]
  },
  {
   "cell_type": "code",
   "execution_count": 23,
   "metadata": {
    "collapsed": true
   },
   "outputs": [],
   "source": [
    "import pandas as pd"
   ]
  },
  {
   "cell_type": "code",
   "execution_count": 24,
   "metadata": {
    "collapsed": false
   },
   "outputs": [],
   "source": [
    "df = pd.DataFrame(performances).T"
   ]
  },
  {
   "cell_type": "code",
   "execution_count": 25,
   "metadata": {
    "collapsed": false
   },
   "outputs": [],
   "source": [
    "col_name = \"performance\"\n",
    "df.columns = [col_name]"
   ]
  },
  {
   "cell_type": "code",
   "execution_count": 26,
   "metadata": {
    "collapsed": false
   },
   "outputs": [],
   "source": [
    "df = df.sort_values(col_name)"
   ]
  },
  {
   "cell_type": "code",
   "execution_count": 27,
   "metadata": {
    "collapsed": false
   },
   "outputs": [
    {
     "data": {
      "text/html": [
       "<div>\n",
       "<table border=\"1\" class=\"dataframe\">\n",
       "  <thead>\n",
       "    <tr style=\"text-align: right;\">\n",
       "      <th></th>\n",
       "      <th>performance</th>\n",
       "    </tr>\n",
       "  </thead>\n",
       "  <tbody>\n",
       "    <tr>\n",
       "      <th>RANSAC (RANdom SAmple Con</th>\n",
       "      <td>0.038495</td>\n",
       "    </tr>\n",
       "    <tr>\n",
       "      <th>Theil-Sen Estimator</th>\n",
       "      <td>0.469760</td>\n",
       "    </tr>\n",
       "    <tr>\n",
       "      <th>Orthogonal Matching Pursu</th>\n",
       "      <td>0.548807</td>\n",
       "    </tr>\n",
       "    <tr>\n",
       "      <th>Nu Support Vector Regress</th>\n",
       "      <td>0.564881</td>\n",
       "    </tr>\n",
       "    <tr>\n",
       "      <th>Passive Aggressive Regres</th>\n",
       "      <td>0.570370</td>\n",
       "    </tr>\n",
       "    <tr>\n",
       "      <th>Epsilon-Support Vector Re</th>\n",
       "      <td>0.586549</td>\n",
       "    </tr>\n",
       "    <tr>\n",
       "      <th>Linear regression with co</th>\n",
       "      <td>0.590802</td>\n",
       "    </tr>\n",
       "    <tr>\n",
       "      <th>Linear Model trained with</th>\n",
       "      <td>0.616216</td>\n",
       "    </tr>\n",
       "    <tr>\n",
       "      <th>Linear Support Vector Reg</th>\n",
       "      <td>0.624221</td>\n",
       "    </tr>\n",
       "    <tr>\n",
       "      <th>Cross-validated Orthogona</th>\n",
       "      <td>0.661282</td>\n",
       "    </tr>\n",
       "    <tr>\n",
       "      <th>Linear model fitted by mi</th>\n",
       "      <td>0.672403</td>\n",
       "    </tr>\n",
       "    <tr>\n",
       "      <th>Bayesian ARD regression.</th>\n",
       "      <td>0.688405</td>\n",
       "    </tr>\n",
       "    <tr>\n",
       "      <th>Ridge regression with bui</th>\n",
       "      <td>0.690917</td>\n",
       "    </tr>\n",
       "    <tr>\n",
       "      <th>Bayesian ridge regression</th>\n",
       "      <td>0.692461</td>\n",
       "    </tr>\n",
       "    <tr>\n",
       "      <th>Lasso model fit with Lars</th>\n",
       "      <td>0.692708</td>\n",
       "    </tr>\n",
       "    <tr>\n",
       "      <th>Elastic Net model with it</th>\n",
       "      <td>0.693300</td>\n",
       "    </tr>\n",
       "    <tr>\n",
       "      <th>Linear least squares with</th>\n",
       "      <td>0.693906</td>\n",
       "    </tr>\n",
       "    <tr>\n",
       "      <th>Lasso linear model with i</th>\n",
       "      <td>0.693929</td>\n",
       "    </tr>\n",
       "    <tr>\n",
       "      <th>Ordinary least squar</th>\n",
       "      <td>0.694112</td>\n",
       "    </tr>\n",
       "    <tr>\n",
       "      <th>Least Angle Regression mo</th>\n",
       "      <td>0.694112</td>\n",
       "    </tr>\n",
       "    <tr>\n",
       "      <th>Cross-validated Least Ang</th>\n",
       "      <td>0.694112</td>\n",
       "    </tr>\n",
       "    <tr>\n",
       "      <th>Cross-validated Lasso, us</th>\n",
       "      <td>0.694112</td>\n",
       "    </tr>\n",
       "  </tbody>\n",
       "</table>\n",
       "</div>"
      ],
      "text/plain": [
       "                           performance\n",
       "RANSAC (RANdom SAmple Con     0.038495\n",
       "Theil-Sen Estimator           0.469760\n",
       "Orthogonal Matching Pursu     0.548807\n",
       "Nu Support Vector Regress     0.564881\n",
       "Passive Aggressive Regres     0.570370\n",
       "Epsilon-Support Vector Re     0.586549\n",
       "Linear regression with co     0.590802\n",
       "Linear Model trained with     0.616216\n",
       "Linear Support Vector Reg     0.624221\n",
       "Cross-validated Orthogona     0.661282\n",
       "Linear model fitted by mi     0.672403\n",
       "Bayesian ARD regression.      0.688405\n",
       "Ridge regression with bui     0.690917\n",
       "Bayesian ridge regression     0.692461\n",
       "Lasso model fit with Lars     0.692708\n",
       "Elastic Net model with it     0.693300\n",
       "Linear least squares with     0.693906\n",
       "Lasso linear model with i     0.693929\n",
       "Ordinary least squar          0.694112\n",
       "Least Angle Regression mo     0.694112\n",
       "Cross-validated Least Ang     0.694112\n",
       "Cross-validated Lasso, us     0.694112"
      ]
     },
     "execution_count": 27,
     "metadata": {},
     "output_type": "execute_result"
    }
   ],
   "source": [
    "df"
   ]
  },
  {
   "cell_type": "code",
   "execution_count": 28,
   "metadata": {
    "collapsed": false
   },
   "outputs": [],
   "source": [
    "liste_des_performances = df.performance.values\n",
    "gains = [0]\n",
    "for indice, performance in enumerate(liste_des_performances):\n",
    "    if indice>0:\n",
    "        previous_value = liste_des_performances[indice-1]\n",
    "        current_value  = liste_des_performances[indice]\n",
    "        gain = (current_value - previous_value) / previous_value\n",
    "        gains.append(round(gain*100, 2))\n",
    "df[\"gains\"] = gains"
   ]
  },
  {
   "cell_type": "code",
   "execution_count": 29,
   "metadata": {
    "collapsed": false
   },
   "outputs": [],
   "source": [
    "df = df.drop(\"gains\", axis=1)"
   ]
  },
  {
   "cell_type": "code",
   "execution_count": 30,
   "metadata": {
    "collapsed": false
   },
   "outputs": [
    {
     "data": {
      "text/html": [
       "<div>\n",
       "<table border=\"1\" class=\"dataframe\">\n",
       "  <thead>\n",
       "    <tr style=\"text-align: right;\">\n",
       "      <th></th>\n",
       "      <th>performance</th>\n",
       "    </tr>\n",
       "  </thead>\n",
       "  <tbody>\n",
       "    <tr>\n",
       "      <th>RANSAC (RANdom SAmple Con</th>\n",
       "      <td>0.038495</td>\n",
       "    </tr>\n",
       "    <tr>\n",
       "      <th>Theil-Sen Estimator</th>\n",
       "      <td>0.469760</td>\n",
       "    </tr>\n",
       "    <tr>\n",
       "      <th>Orthogonal Matching Pursu</th>\n",
       "      <td>0.548807</td>\n",
       "    </tr>\n",
       "    <tr>\n",
       "      <th>Nu Support Vector Regress</th>\n",
       "      <td>0.564881</td>\n",
       "    </tr>\n",
       "    <tr>\n",
       "      <th>Passive Aggressive Regres</th>\n",
       "      <td>0.570370</td>\n",
       "    </tr>\n",
       "    <tr>\n",
       "      <th>Epsilon-Support Vector Re</th>\n",
       "      <td>0.586549</td>\n",
       "    </tr>\n",
       "    <tr>\n",
       "      <th>Linear regression with co</th>\n",
       "      <td>0.590802</td>\n",
       "    </tr>\n",
       "    <tr>\n",
       "      <th>Linear Model trained with</th>\n",
       "      <td>0.616216</td>\n",
       "    </tr>\n",
       "    <tr>\n",
       "      <th>Linear Support Vector Reg</th>\n",
       "      <td>0.624221</td>\n",
       "    </tr>\n",
       "    <tr>\n",
       "      <th>Cross-validated Orthogona</th>\n",
       "      <td>0.661282</td>\n",
       "    </tr>\n",
       "    <tr>\n",
       "      <th>Linear model fitted by mi</th>\n",
       "      <td>0.672403</td>\n",
       "    </tr>\n",
       "    <tr>\n",
       "      <th>Bayesian ARD regression.</th>\n",
       "      <td>0.688405</td>\n",
       "    </tr>\n",
       "    <tr>\n",
       "      <th>Ridge regression with bui</th>\n",
       "      <td>0.690917</td>\n",
       "    </tr>\n",
       "    <tr>\n",
       "      <th>Bayesian ridge regression</th>\n",
       "      <td>0.692461</td>\n",
       "    </tr>\n",
       "    <tr>\n",
       "      <th>Lasso model fit with Lars</th>\n",
       "      <td>0.692708</td>\n",
       "    </tr>\n",
       "    <tr>\n",
       "      <th>Elastic Net model with it</th>\n",
       "      <td>0.693300</td>\n",
       "    </tr>\n",
       "    <tr>\n",
       "      <th>Linear least squares with</th>\n",
       "      <td>0.693906</td>\n",
       "    </tr>\n",
       "    <tr>\n",
       "      <th>Lasso linear model with i</th>\n",
       "      <td>0.693929</td>\n",
       "    </tr>\n",
       "    <tr>\n",
       "      <th>Ordinary least squar</th>\n",
       "      <td>0.694112</td>\n",
       "    </tr>\n",
       "    <tr>\n",
       "      <th>Least Angle Regression mo</th>\n",
       "      <td>0.694112</td>\n",
       "    </tr>\n",
       "    <tr>\n",
       "      <th>Cross-validated Least Ang</th>\n",
       "      <td>0.694112</td>\n",
       "    </tr>\n",
       "    <tr>\n",
       "      <th>Cross-validated Lasso, us</th>\n",
       "      <td>0.694112</td>\n",
       "    </tr>\n",
       "  </tbody>\n",
       "</table>\n",
       "</div>"
      ],
      "text/plain": [
       "                           performance\n",
       "RANSAC (RANdom SAmple Con     0.038495\n",
       "Theil-Sen Estimator           0.469760\n",
       "Orthogonal Matching Pursu     0.548807\n",
       "Nu Support Vector Regress     0.564881\n",
       "Passive Aggressive Regres     0.570370\n",
       "Epsilon-Support Vector Re     0.586549\n",
       "Linear regression with co     0.590802\n",
       "Linear Model trained with     0.616216\n",
       "Linear Support Vector Reg     0.624221\n",
       "Cross-validated Orthogona     0.661282\n",
       "Linear model fitted by mi     0.672403\n",
       "Bayesian ARD regression.      0.688405\n",
       "Ridge regression with bui     0.690917\n",
       "Bayesian ridge regression     0.692461\n",
       "Lasso model fit with Lars     0.692708\n",
       "Elastic Net model with it     0.693300\n",
       "Linear least squares with     0.693906\n",
       "Lasso linear model with i     0.693929\n",
       "Ordinary least squar          0.694112\n",
       "Least Angle Regression mo     0.694112\n",
       "Cross-validated Least Ang     0.694112\n",
       "Cross-validated Lasso, us     0.694112"
      ]
     },
     "execution_count": 30,
     "metadata": {},
     "output_type": "execute_result"
    }
   ],
   "source": [
    "df"
   ]
  },
  {
   "cell_type": "code",
   "execution_count": 31,
   "metadata": {
    "collapsed": true
   },
   "outputs": [],
   "source": [
    "%matplotlib inline\n",
    "import matplotlib.pyplot as plt\n",
    "import matplotlib.ticker as ticker"
   ]
  },
  {
   "cell_type": "code",
   "execution_count": 32,
   "metadata": {
    "collapsed": false
   },
   "outputs": [
    {
     "data": {
      "image/png": "[encoded data removed]",
      "text/plain": [
       "<matplotlib.figure.Figure at 0x113397950>"
      ]
     },
     "metadata": {},
     "output_type": "display_data"
    }
   ],
   "source": [
    "df = df.sort_values(col_name)\n",
    "ax = df.plot(rot=45, x_compat=True)"
   ]
  },
  {
   "cell_type": "code",
   "execution_count": 33,
   "metadata": {
    "collapsed": false
   },
   "outputs": [
    {
     "data": {
      "image/png": "[encoded data removed]",
      "text/plain": [
       "<matplotlib.figure.Figure at 0x113600350>"
      ]
     },
     "metadata": {},
     "output_type": "display_data"
    }
   ],
   "source": [
    "df = df.sort_values(col_name)\n",
    "ax = df.plot(rot=90, x_compat=True)\n",
    "ax.xaxis.set_ticklabels(df.index)\n",
    "ax.xaxis.set_major_locator(ticker.MultipleLocator(1))"
   ]
  },
  {
   "cell_type": "code",
   "execution_count": 34,
   "metadata": {
    "collapsed": false
   },
   "outputs": [
    {
     "data": {
      "text/plain": [
       "<matplotlib.axes._subplots.AxesSubplot at 0x113746350>"
      ]
     },
     "execution_count": 34,
     "metadata": {},
     "output_type": "execute_result"
    },
    {
     "data": {
      "image/png": "[encoded data removed]",
      "text/plain": [
       "<matplotlib.figure.Figure at 0x11361c290>"
      ]
     },
     "metadata": {},
     "output_type": "display_data"
    }
   ],
   "source": [
    "fig , axes = plt.subplots(1,1)\n",
    "fig.set_size_inches(9,3)\n",
    "df = df.sort_values(col_name )\n",
    "axes.xaxis.set_ticklabels(df.index)\n",
    "axes.xaxis.set_major_locator(ticker.MultipleLocator(1))\n",
    "df.plot(rot=45, ax=axes)\n"
   ]
  },
  {
   "cell_type": "code",
   "execution_count": 35,
   "metadata": {
    "collapsed": false
   },
   "outputs": [
    {
     "data": {
      "text/plain": [
       "<matplotlib.axes._subplots.AxesSubplot at 0x11373dd50>"
      ]
     },
     "execution_count": 35,
     "metadata": {},
     "output_type": "execute_result"
    },
    {
     "data": {
      "image/png": "[encoded data removed]",
      "text/plain": [
       "<matplotlib.figure.Figure at 0x113614f90>"
      ]
     },
     "metadata": {},
     "output_type": "display_data"
    }
   ],
   "source": [
    "fig , axes = plt.subplots(1,1)\n",
    "fig.set_size_inches(9,3)\n",
    "df = df.sort_values(col_name )\n",
    "axes.xaxis.set_ticklabels(df.index)\n",
    "axes.xaxis.set_major_locator(ticker.MultipleLocator(1))\n",
    "df.plot(kind='bar', rot=90, ax=axes)"
   ]
  },
  {
   "cell_type": "code",
   "execution_count": 36,
   "metadata": {
    "collapsed": false
   },
   "outputs": [
    {
     "data": {
      "image/png": "[encoded data removed]",
      "text/plain": [
       "<matplotlib.figure.Figure at 0x1137978d0>"
      ]
     },
     "metadata": {},
     "output_type": "display_data"
    }
   ],
   "source": [
    "new_labels = []\n",
    "for i, index in enumerate(df.index):\n",
    "    new_label = \"%s (%.2f)\"%(index,df.performance[i])\n",
    "    new_labels.append(new_label.replace(\"\\n\", \" \"))\n",
    "    \n",
    "fig , axes = plt.subplots(1,1)\n",
    "df.index = new_labels\n",
    "fig.set_size_inches(15,8)\n",
    "fig.subplots_adjust(left=0.65)\n",
    "df.sort_values(col_name).plot(kind='barh', ax=axes)\n",
    "axes.xaxis.set_major_locator(ticker.MultipleLocator(1))\n",
    "\n",
    "pass"
   ]
  }
 ],
 "metadata": {
  "kernelspec": {
   "display_name": "Python [Root]",
   "language": "python",
   "name": "Python [Root]"
  },
  "language_info": {
   "codemirror_mode": {
    "name": "ipython",
    "version": 2
   },
   "file_extension": ".py",
   "mimetype": "text/x-python",
   "name": "python",
   "nbconvert_exporter": "python",
   "pygments_lexer": "ipython2",
   "version": "2.7.11"
  }
 },
 "nbformat": 4,
 "nbformat_minor": 0
}
