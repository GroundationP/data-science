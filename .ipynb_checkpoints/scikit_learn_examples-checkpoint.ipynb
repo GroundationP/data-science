{
 "cells": [
  {
   "cell_type": "markdown",
   "metadata": {},
   "source": [
    "# Scikit Learn"
   ]
  },
  {
   "cell_type": "markdown",
   "metadata": {},
   "source": [
    "## 1) Import de dataset"
   ]
  },
  {
   "cell_type": "code",
   "execution_count": 1,
   "metadata": {
    "collapsed": true
   },
   "outputs": [],
   "source": [
    "from sklearn import datasets"
   ]
  },
  {
   "cell_type": "code",
   "execution_count": 2,
   "metadata": {
    "collapsed": true
   },
   "outputs": [],
   "source": [
    "digits = datasets.load_digits()\n",
    "X = digits.data\n",
    "y = digits.target\n",
    "\n",
    "boston = datasets.load_boston()\n",
    "X = boston[\"data\"]\n",
    "y = boston[\"target\"]\n",
    "\n"
   ]
  },
  {
   "cell_type": "markdown",
   "metadata": {},
   "source": [
    "## 2) separer le jeu d'apprentissage du jeu de test"
   ]
  },
  {
   "cell_type": "code",
   "execution_count": 3,
   "metadata": {
    "collapsed": true
   },
   "outputs": [],
   "source": [
    "from sklearn.cross_validation import train_test_split\n"
   ]
  },
  {
   "cell_type": "code",
   "execution_count": 4,
   "metadata": {
    "collapsed": true
   },
   "outputs": [],
   "source": [
    "X_train, X_test, y_train, y_test = train_test_split(X, y, test_size=0.33)"
   ]
  },
  {
   "cell_type": "markdown",
   "metadata": {},
   "source": [
    "## 3) Standardiser les valeurs"
   ]
  },
  {
   "cell_type": "code",
   "execution_count": 5,
   "metadata": {
    "collapsed": true
   },
   "outputs": [],
   "source": [
    "from sklearn.preprocessing import StandardScaler\n",
    "scaler = StandardScaler()\n",
    "scaler.fit(X_train)                 # Il ne faut fiter que sur les data d'entrainement\n",
    "X_train = scaler.transform(X_train)\n",
    "X_test  = scaler.transform(X_test)  # apply same transformation to test data"
   ]
  },
  {
   "cell_type": "markdown",
   "metadata": {},
   "source": [
    "## 4) choisir un algo et le tester\n",
    "### exemple : Support Vector Machine"
   ]
  },
  {
   "cell_type": "code",
   "execution_count": 725,
   "metadata": {
    "collapsed": true
   },
   "outputs": [],
   "source": [
    "from sklearn import svm\n",
    "svr = svm.SVR(kernel='linear')"
   ]
  },
  {
   "cell_type": "code",
   "execution_count": 726,
   "metadata": {
    "collapsed": false
   },
   "outputs": [
    {
     "data": {
      "text/plain": [
       "array([ 0.7002155 ,  0.31447767, -0.44395345])"
      ]
     },
     "execution_count": 726,
     "metadata": {},
     "output_type": "execute_result"
    }
   ],
   "source": [
    "from sklearn import cross_validation\n",
    "cross_validation.cross_val_score(svr, X, y, n_jobs=-1)"
   ]
  },
  {
   "cell_type": "markdown",
   "metadata": {},
   "source": [
    "## 5) aller au delà des paramètres par défaut avec un grid search"
   ]
  },
  {
   "cell_type": "code",
   "execution_count": 727,
   "metadata": {
    "collapsed": false
   },
   "outputs": [
    {
     "name": "stdout",
     "output_type": "stream",
     "text": [
      "0.507194097686 SVR(C=1.0, cache_size=200, coef0=0.0, degree=3, epsilon=0.1, gamma=0.1,\n",
      "  kernel='rbf', max_iter=-1, shrinking=True, tol=0.001, verbose=False)\n"
     ]
    }
   ],
   "source": [
    "from sklearn import grid_search\n",
    "parameters = {  'gamma' : [0.01, 0.1, 0.5]           }\n",
    "grid       = grid_search.GridSearchCV(svm.SVR(), parameters, n_jobs=-1)\n",
    "grid.fit(X_train, y_train)\n",
    "print grid.best_score_, grid.best_estimator_"
   ]
  },
  {
   "cell_type": "markdown",
   "metadata": {},
   "source": [
    "## 5.1) affiner le grid search"
   ]
  },
  {
   "cell_type": "code",
   "execution_count": 732,
   "metadata": {
    "collapsed": false
   },
   "outputs": [
    {
     "name": "stdout",
     "output_type": "stream",
     "text": [
      "0.573569963337 SVR(C=1.5, cache_size=200, coef0=0.0, degree=3, epsilon=0.1, gamma=0.1,\n",
      "  kernel='rbf', max_iter=-1, shrinking=True, tol=0.001, verbose=False)\n"
     ]
    }
   ],
   "source": [
    "parameters = {  'C'      : [0.5, 1, 1.5]             ,\n",
    "                'gamma'  : [0.5, 0.1, 0.15]      }\n",
    "grid = grid_search.GridSearchCV(svm.SVR(), parameters, n_jobs=-1)\n",
    "grid.fit(X_train, y_train)\n",
    "print grid.best_score_, grid.best_estimator_"
   ]
  },
  {
   "cell_type": "code",
   "execution_count": 733,
   "metadata": {
    "collapsed": false
   },
   "outputs": [
    {
     "name": "stdout",
     "output_type": "stream",
     "text": [
      "0.66588152457 SVR(C=2.5, cache_size=200, coef0=0.0, degree=3, epsilon=0.1, gamma=0.05,\n",
      "  kernel='rbf', max_iter=-1, shrinking=True, tol=0.001, verbose=False)\n"
     ]
    }
   ],
   "source": [
    "parameters = {  'C'      : [1.5, 2, 2.5]   ,\n",
    "                'kernel' : ['rbf', 'poly', 'sigmoid'],\n",
    "                'gamma'  : [ 0.05, 0.10, 0.15] }\n",
    "grid = grid_search.GridSearchCV(svm.SVR(), parameters, n_jobs=-1)\n",
    "grid.fit(X_train, y_train)\n",
    "print grid.best_score_, grid.best_estimator_\n"
   ]
  },
  {
   "cell_type": "code",
   "execution_count": 734,
   "metadata": {
    "collapsed": false
   },
   "outputs": [
    {
     "name": "stdout",
     "output_type": "stream",
     "text": [
      "0.704768348824 SVR(C=4, cache_size=200, coef0=0.0, degree=1, epsilon=0.1, gamma=0.05,\n",
      "  kernel='rbf', max_iter=-1, shrinking=True, tol=0.001, verbose=False)\n"
     ]
    }
   ],
   "source": [
    "parameters = {  'C'       : [2.5, 3, 4]   ,\n",
    "                'kernel'  : ['rbf', 'poly', 'sigmoid'],\n",
    "                'gamma'   : [ 0.01, 0.05, 0.07],\n",
    "                 \"degree\" : [1,3,5]}\n",
    "grid = grid_search.GridSearchCV(svm.SVR(), parameters, n_jobs=-1)\n",
    "grid.fit(X_train, y_train)\n",
    "print grid.best_score_, grid.best_estimator_\n"
   ]
  },
  {
   "cell_type": "code",
   "execution_count": 735,
   "metadata": {
    "collapsed": false
   },
   "outputs": [
    {
     "name": "stdout",
     "output_type": "stream",
     "text": [
      "0.736814282366 SVR(C=7, cache_size=200, coef0=0.0, degree=1, epsilon=0.1, gamma=0.03,\n",
      "  kernel='rbf', max_iter=-1, shrinking=True, tol=0.001, verbose=False)\n"
     ]
    }
   ],
   "source": [
    "parameters = {  'C'       : [4, 5, 6, 7]   ,\n",
    "                'kernel'  : ['rbf'],\n",
    "                'gamma'   : [ 0.03, 0.05, 0.07],\n",
    "                 \"degree\" : [1,2, 3]}\n",
    "grid = grid_search.GridSearchCV(svm.SVR(), parameters, n_jobs=-1)\n",
    "grid.fit(X_train, y_train)\n",
    "print grid.best_score_, grid.best_estimator_\n"
   ]
  },
  {
   "cell_type": "code",
   "execution_count": 736,
   "metadata": {
    "collapsed": false
   },
   "outputs": [
    {
     "name": "stdout",
     "output_type": "stream",
     "text": [
      "0.758963610077 SVR(C=15, cache_size=200, coef0=0.0, degree=1, epsilon=0.1, gamma=0.03,\n",
      "  kernel='rbf', max_iter=-1, shrinking=True, tol=0.001, verbose=False)\n"
     ]
    }
   ],
   "source": [
    "parameters = {  'C'       : [7, 10, 15]   ,\n",
    "                'kernel'  : ['rbf'],\n",
    "                'gamma'   : [ 0.02, 0.03, 0.04],\n",
    "                 \"degree\" : [1,2]}\n",
    "grid = grid_search.GridSearchCV(svm.SVR(), parameters, n_jobs=-1)\n",
    "grid.fit(X_train, y_train)\n",
    "print grid.best_score_, grid.best_estimator_\n"
   ]
  },
  {
   "cell_type": "code",
   "execution_count": 738,
   "metadata": {
    "collapsed": false
   },
   "outputs": [
    {
     "name": "stdout",
     "output_type": "stream",
     "text": [
      "0.764669894338 SVR(C=30, cache_size=200, coef0=0.0, degree=1, epsilon=0.15, gamma=0.03,\n",
      "  kernel='rbf', max_iter=-1, shrinking=True, tol=0.001, verbose=False)\n"
     ]
    }
   ],
   "source": [
    "parameters = {  'C'       : [10, 15, 20, 30]   ,\n",
    "                'kernel'  : ['rbf'],\n",
    "                'gamma'   : [ 0.03],\n",
    "                  \"epsilon\" : [0.01, 0.05, 0.15],\n",
    "                 \"degree\" : [1,2]}\n",
    "grid = grid_search.GridSearchCV(svm.SVR(), parameters, n_jobs=-1)\n",
    "grid.fit(X_train, y_train)\n",
    "print grid.best_score_, grid.best_estimator_\n"
   ]
  },
  {
   "cell_type": "code",
   "execution_count": 739,
   "metadata": {
    "collapsed": false
   },
   "outputs": [
    {
     "name": "stdout",
     "output_type": "stream",
     "text": [
      "0.770878748661 SVR(C=30, cache_size=200, coef0=0.0, degree=1, epsilon=1, gamma=0.03,\n",
      "  kernel='rbf', max_iter=-1, shrinking=True, tol=0.001, verbose=False)\n"
     ]
    }
   ],
   "source": [
    "parameters = {  'C'       : [30, 50, 100]   ,\n",
    "                'kernel'  : ['rbf'],\n",
    "                'gamma'   : [ 0.03],\n",
    "                  \"epsilon\" : [0.01, 0.05, 0.15, 0.5, 0.9, 1],\n",
    "                 \"degree\" : [1,2]}\n",
    "grid = grid_search.GridSearchCV(svm.SVR(), parameters, n_jobs=-1)\n",
    "grid.fit(X_train, y_train)\n",
    "print grid.best_score_, grid.best_estimator_\n"
   ]
  },
  {
   "cell_type": "code",
   "execution_count": 747,
   "metadata": {
    "collapsed": false
   },
   "outputs": [
    {
     "name": "stdout",
     "output_type": "stream",
     "text": [
      "0.793147429284 SVR(C=250, cache_size=200, coef0=0.0, degree=1, epsilon=2, gamma=0.03,\n",
      "  kernel='rbf', max_iter=-1, shrinking=True, tol=0.001, verbose=False)\n"
     ]
    }
   ],
   "source": [
    "parameters = {  'C'       : [190, 200, 250, 260]   ,\n",
    "                'kernel'  : ['rbf'],\n",
    "                'gamma'   : [ 0.03],\n",
    "                  \"epsilon\" : [1.5, 2, 2.5],\n",
    "                 \"degree\" : [1,2]}\n",
    "grid = grid_search.GridSearchCV(svm.SVR(), parameters, n_jobs=-1)\n",
    "grid.fit(X_train, y_train)\n",
    "print grid.best_score_, grid.best_estimator_\n"
   ]
  },
  {
   "cell_type": "markdown",
   "metadata": {},
   "source": [
    "# 6) tester tous les algorithmes"
   ]
  },
  {
   "cell_type": "code",
   "execution_count": 750,
   "metadata": {
    "collapsed": false
   },
   "outputs": [],
   "source": [
    "def get_sklearn_algorithms(verbose = False):\n",
    "    \"\"\"\n",
    "    Explore all submodule of sklearn and fetch functions having a 'fit' attribute.\n",
    "    \n",
    "    Be careful : some functions are not models (ex : crossvalidators)\n",
    "    Parameters :\n",
    "        debug = print or not stuff on console\n",
    "    Return :\n",
    "        dict : { module : [ fit_functions] }\n",
    "    \"\"\"\n",
    "    from collections import defaultdict\n",
    "    import importlib\n",
    "    import sklearn\n",
    "    algos = defaultdict(list)\n",
    "    if verbose : print dir(sklearn)\n",
    "    for nom_module in dir(sklearn):    \n",
    "        if verbose : print nom_module\n",
    "        try:\n",
    "            to_import = \"sklearn.%s\"%nom_module\n",
    "            module    = importlib.import_module(to_import)\n",
    "            for nom_fonction in dir(module):\n",
    "                fonction = getattr(module, nom_fonction)\n",
    "                if hasattr(fonction, \"fit\"):\n",
    "                    if verbose : print \" nom algorithme  = \", nom_fonction\n",
    "                    algos[nom_module].append(fonction)                                            \n",
    "        except Exception as e:\n",
    "            if verbose : print e\n",
    "        if verbose: print \"=\"*30\n",
    "    return algos"
   ]
  },
  {
   "cell_type": "code",
   "execution_count": 842,
   "metadata": {
    "collapsed": false
   },
   "outputs": [
    {
     "name": "stdout",
     "output_type": "stream",
     "text": [
      "\n",
      "===> neighbors\n",
      "KNeighborsClassifier,KNeighborsRegressor,KernelDensity,LSHForest,NearestCentroid,NearestNeighbors,RadiusNeighborsClassifier,RadiusNeighborsRegressor\n",
      "\n",
      "===> neural_network\n",
      "BernoulliRBM\n",
      "\n",
      "===> lda\n",
      "LinearDiscriminantAnalysis\n",
      "\n",
      "===> kernel_ridge\n",
      "KernelRidge\n",
      "\n",
      "===> manifold\n",
      "Isomap,LocallyLinearEmbedding,MDS,SpectralEmbedding,TSNE\n",
      "\n",
      "===> feature_extraction\n",
      "DictVectorizer,FeatureHasher\n",
      "\n",
      "===> cluster\n",
      "AffinityPropagation,AgglomerativeClustering,Birch,DBSCAN,FeatureAgglomeration,KMeans,MeanShift,MiniBatchKMeans,SpectralBiclustering,SpectralClustering,SpectralCoclustering\n",
      "\n",
      "===> naive_bayes\n",
      "BaseDiscreteNB,BernoulliNB,GaussianNB,LabelBinarizer,MultinomialNB\n",
      "\n",
      "===> discriminant_analysis\n",
      "LinearDiscriminantAnalysis,QuadraticDiscriminantAnalysis,StandardScaler\n",
      "\n",
      "===> kernel_approximation\n",
      "AdditiveChi2Sampler,Nystroem,RBFSampler,SkewedChi2Sampler\n",
      "\n",
      "===> calibration\n",
      "CalibratedClassifierCV,IsotonicRegression,LabelBinarizer,LinearSVC,_CalibratedClassifier,_SigmoidCalibration\n",
      "\n",
      "===> multiclass\n",
      "LabelBinarizer,OneVsOneClassifier,OneVsRestClassifier,OutputCodeClassifier,_ConstantPredictor\n",
      "\n",
      "===> grid_search\n",
      "GridSearchCV,RandomizedSearchCV\n",
      "\n",
      "===> decomposition\n",
      "DictionaryLearning,FactorAnalysis,FastICA,IncrementalPCA,KernelPCA,LatentDirichletAllocation,MiniBatchDictionaryLearning,MiniBatchSparsePCA,NMF,PCA,ProjectedGradientNMF,RandomizedPCA,SparseCoder,SparsePCA,TruncatedSVD\n",
      "\n",
      "===> ensemble\n",
      "AdaBoostClassifier,AdaBoostRegressor,BaggingClassifier,BaggingRegressor,ExtraTreesClassifier,ExtraTreesRegressor,GradientBoostingClassifier,GradientBoostingRegressor,RandomForestClassifier,RandomForestRegressor,RandomTreesEmbedding,VotingClassifier\n",
      "\n",
      "===> isotonic\n",
      "IsotonicRegression\n",
      "\n",
      "===> mixture\n",
      "DPGMM,GMM,VBGMM\n",
      "\n",
      "===> qda\n",
      "QuadraticDiscriminantAnalysis\n",
      "\n",
      "===> linear_model\n",
      "ARDRegression,BayesianRidge,ElasticNet,ElasticNetCV,Lars,LarsCV,Lasso,LassoCV,LassoLars,LassoLarsCV,LassoLarsIC,LinearRegression,LogisticRegression,LogisticRegressionCV,MultiTaskElasticNet,MultiTaskElasticNetCV,MultiTaskLasso,MultiTaskLassoCV,OrthogonalMatchingPursuit,OrthogonalMatchingPursuitCV,PassiveAggressiveClassifier,PassiveAggressiveRegressor,Perceptron,RANSACRegressor,RandomizedLasso,RandomizedLogisticRegression,Ridge,RidgeCV,RidgeClassifier,RidgeClassifierCV,SGDClassifier,SGDRegressor,TheilSenRegressor\n",
      "\n",
      "===> cross_decomposition\n",
      "CCA,PLSCanonical,PLSRegression,PLSSVD\n",
      "\n",
      "===> semi_supervised\n",
      "LabelPropagation,LabelSpreading\n",
      "\n",
      "===> covariance\n",
      "EllipticEnvelope,EmpiricalCovariance,GraphLasso,GraphLassoCV,LedoitWolf,MinCovDet,OAS,ShrunkCovariance\n",
      "\n",
      "===> preprocessing\n",
      "Binarizer,FunctionTransformer,Imputer,KernelCenterer,LabelBinarizer,LabelEncoder,MaxAbsScaler,MinMaxScaler,MultiLabelBinarizer,Normalizer,OneHotEncoder,PolynomialFeatures,RobustScaler,StandardScaler\n",
      "\n",
      "===> feature_selection\n",
      "GenericUnivariateSelect,RFE,RFECV,SelectFdr,SelectFpr,SelectFromModel,SelectFwe,SelectKBest,SelectPercentile,VarianceThreshold\n",
      "\n",
      "===> dummy\n",
      "DummyClassifier,DummyRegressor\n",
      "\n",
      "===> pipeline\n",
      "FeatureUnion,Pipeline\n",
      "\n",
      "===> svm\n",
      "LinearSVC,LinearSVR,NuSVC,NuSVR,OneClassSVM,SVC,SVR,so\n",
      "\n",
      "===> random_projection\n",
      "BaseRandomProjection,GaussianRandomProjection,SparseRandomProjection\n",
      "\n",
      "===> tree\n",
      "DecisionTreeClassifier,DecisionTreeRegressor,ExtraTreeClassifier,ExtraTreeRegressor\n",
      "\n",
      "===> gaussian_process\n",
      "GaussianProcess\n"
     ]
    }
   ],
   "source": [
    "algos = get_sklearn_algorithms()\n",
    "for key in algos.keys():\n",
    "    print \"\\n===>\",key\n",
    "    algos_ = []\n",
    "    for algo in algos[key]:\n",
    "        classe_algo = str(algo)\n",
    "        nom_algo    = classe_algo[str(classe_algo).rfind(\".\")+1:str(classe_algo).rfind(\"'\")]\n",
    "        algos_.append(nom_algo)\n",
    "    print \",\".join(algos_)"
   ]
  },
  {
   "cell_type": "code",
   "execution_count": 802,
   "metadata": {
    "collapsed": true
   },
   "outputs": [],
   "source": [
    "import warnings\n",
    "warnings.filterwarnings(\"ignore\", category=DeprecationWarning) "
   ]
  },
  {
   "cell_type": "code",
   "execution_count": 1039,
   "metadata": {
    "collapsed": false,
    "scrolled": true
   },
   "outputs": [
    {
     "name": "stdout",
     "output_type": "stream",
     "text": [
      "Classifier implementing t\n",
      "Algo de classification\n",
      "==============================\n",
      "Regression based on k-nea\n",
      "0.802436678126\n",
      "==============================\n",
      "Kernel Density Estimation\n",
      "-2665.56481513\n",
      "==============================\n",
      "Performs approximate near\n",
      "'LSHForest' object has no attribute 'score'\n",
      "==============================\n",
      "Nearest centroid classifi\n",
      "Algo de classification\n",
      "==============================\n",
      "Unsupervised learner for\n",
      "'NearestNeighbors' object has no attribute 'score'\n",
      "==============================\n",
      "Classifier implementing a\n",
      "Algo de classification\n",
      "==============================\n",
      "Regression based on neigh\n",
      "Input contains NaN, infinity or a value too large \n",
      "==============================\n",
      "Bernoulli Restricted Bolt\n",
      "'BernoulliRBM' object has no attribute 'score'\n",
      "==============================\n",
      "Linear Discriminant Analy\n",
      "Algo de classification\n",
      "==============================\n",
      "Kernel ridge regression.\n",
      "-5.57943346459\n",
      "==============================\n",
      "Isomap Embedding\n",
      "\n",
      "    Non\n",
      "'Isomap' object has no attribute 'score'\n",
      "==============================\n",
      "Locally Linear Embedding\n",
      "'LocallyLinearEmbedding' object has no attribute '\n",
      "==============================\n",
      "Multidimensional scaling\n",
      "'MDS' object has no attribute 'score'\n",
      "==============================\n",
      "Spectral embedding for no\n",
      "'SpectralEmbedding' object has no attribute 'score\n",
      "==============================\n",
      "t-distributed Stochastic\n",
      "array must not contain infs or NaNs\n",
      "==============================\n",
      "Transforms lists of featu\n",
      "'numpy.ndarray' object has no attribute 'iteritems\n",
      "==============================\n",
      "Implements feature hashin\n",
      "'FeatureHasher' object has no attribute 'score'\n",
      "==============================\n",
      "Perform Affinity Propagat\n",
      "'AffinityPropagation' object has no attribute 'sco\n",
      "==============================\n",
      "Agglomerative Cluste\n",
      "'AgglomerativeClustering' object has no attribute \n",
      "==============================\n",
      "Implements the Birch clus\n",
      "'Birch' object has no attribute 'score'\n",
      "==============================\n",
      "Perform DBSCAN clustering\n",
      "'DBSCAN' object has no attribute 'score'\n",
      "==============================\n",
      "Agglomerate features.\n",
      "'FeatureAgglomeration' object has no attribute 'sc\n",
      "==============================\n",
      "K-Means clustering\n",
      "\n",
      "    R\n",
      "-728.864073097\n",
      "==============================\n",
      "Mean shift clustering usi\n",
      "'MeanShift' object has no attribute 'score'\n",
      "==============================\n",
      "Mini-Batch K-Means cluste\n",
      "-775.5930363\n",
      "==============================\n",
      "Spectral biclustering (Kl\n",
      "fit() takes exactly 2 arguments (3 given)\n",
      "==============================\n",
      "Apply clustering to a pro\n",
      "'SpectralClustering' object has no attribute 'scor\n",
      "==============================\n",
      "Spectral Co-Clustering al\n",
      "fit() takes exactly 2 arguments (3 given)\n",
      "==============================\n",
      "Can't instantiate abstract class BaseDiscreteNB wi\n",
      "==============================\n",
      "Naive Bayes classifier fo\n",
      "Algo de classification\n",
      "==============================\n",
      "Gaussian Naive Bayes\n",
      "Algo de classification\n",
      "==============================\n",
      "Binarize labels in a one-\n",
      "fit() takes exactly 2 arguments (3 given)\n",
      "==============================\n",
      "Naive Bayes classifi\n",
      "Algo de classification\n",
      "==============================\n",
      "Linear Discriminant Analy\n",
      "Algo de classification\n",
      "==============================\n",
      "Quadratic Discrimina\n",
      "Algo de classification\n",
      "==============================\n",
      "Standardize features by r\n",
      "'StandardScaler' object has no attribute 'score'\n",
      "==============================\n",
      "Approximate feature map f\n",
      "'AdditiveChi2Sampler' object has no attribute 'sco\n",
      "==============================\n",
      "Approximate a kernel map\n",
      "'Nystroem' object has no attribute 'score'\n",
      "==============================\n",
      "Approximates feature map\n",
      "'RBFSampler' object has no attribute 'score'\n",
      "==============================\n",
      "Approximates feature map\n",
      "'SkewedChi2Sampler' object has no attribute 'score\n",
      "==============================\n",
      "Probability calibration w\n",
      "Algo de classification\n",
      "==============================\n",
      "Isotonic regression model\n",
      "X should be a 1d array\n",
      "==============================\n",
      "Binarize labels in a one-\n",
      "fit() takes exactly 2 arguments (3 given)\n",
      "==============================\n",
      "Linear Support Vector Cla\n",
      "Algo de classification\n",
      "==============================\n",
      "__init__() takes at least 2 arguments (1 given)\n",
      "==============================\n",
      "Sigmoid regression model.\n",
      "bad input shape (339, 13)\n",
      "==============================\n",
      "Binarize labels in a one-\n",
      "fit() takes exactly 2 arguments (3 given)\n",
      "==============================\n",
      "__init__() takes at least 2 arguments (1 given)\n",
      "==============================\n",
      "__init__() takes at least 2 arguments (1 given)\n",
      "==============================\n",
      "__init__() takes at least 2 arguments (1 given)\n",
      "==============================\n",
      "'NoneType' object has no attribute 'find'\n",
      "==============================\n",
      "__init__() takes at least 3 arguments (1 given)\n",
      "==============================\n",
      "__init__() takes at least 3 arguments (1 given)\n",
      "==============================\n",
      "Dictionary learning\n",
      "'DictionaryLearning' object has no attribute 'scor\n",
      "==============================\n",
      "Factor Analysis (FA)\n",
      "-15.0452160365\n",
      "==============================\n",
      "FastICA\n",
      "'FastICA' object has no attribute 'score'\n",
      "==============================\n",
      "Incremental principal com\n",
      "'IncrementalPCA' object has no attribute 'score'\n",
      "==============================\n",
      "Kernel Principal componen\n",
      "'KernelPCA' object has no attribute 'score'\n",
      "==============================\n",
      "Latent Dirichlet Allocati\n",
      "Negative values in data passed to LatentDirichletA\n",
      "==============================\n",
      "Mini-batch dictionary lea\n",
      "'MiniBatchDictionaryLearning' object has no attrib\n",
      "==============================\n",
      "Mini-batch Sparse Princip\n",
      "'MiniBatchSparsePCA' object has no attribute 'scor\n",
      "==============================\n",
      "Non-Negative Matrix Facto\n",
      "Negative values in data passed to NMF (input X)\n",
      "==============================\n",
      "Principal component analy\n",
      "-14.197396605\n",
      "==============================\n",
      "Non-Negative Matrix Facto\n",
      "Negative values in data passed to NMF (input X)\n",
      "==============================\n",
      "Principal component analy\n",
      "'RandomizedPCA' object has no attribute 'score'\n",
      "==============================\n",
      "__init__() takes at least 2 arguments (1 given)\n",
      "==============================\n",
      "Sparse Principal Componen\n",
      "'SparsePCA' object has no attribute 'score'\n",
      "==============================\n",
      "Dimensionality reduction\n",
      "'TruncatedSVD' object has no attribute 'score'\n",
      "==============================\n",
      "An AdaBoost classifier.\n",
      "Algo de classification\n",
      "==============================\n",
      "An AdaBoost regressor.\n",
      "0.846655739625\n",
      "==============================\n",
      "A Bagging classifier.\n",
      "Algo de classification\n",
      "==============================\n",
      "A Bagging regressor.\n",
      "0.893632907492\n",
      "==============================\n",
      "An extra-trees classifier\n",
      "Algo de classification\n",
      "==============================\n",
      "An extra-trees regressor.\n",
      "0.88927250186\n",
      "==============================\n",
      "Gradient Boosting for cla\n",
      "Algo de classification\n",
      "==============================\n",
      "Gradient Boosting for reg\n",
      "0.876293210157\n",
      "==============================\n",
      "A random forest classifie\n",
      "Algo de classification\n",
      "==============================\n",
      "A random forest regressor\n",
      "0.874825914493\n",
      "==============================\n",
      "An ensemble of totally ra\n",
      "'RandomTreesEmbedding' object has no attribute 'sc\n",
      "==============================\n",
      "__init__() takes at least 2 arguments (1 given)\n",
      "==============================\n",
      "Isotonic regression model\n",
      "X should be a 1d array\n",
      "==============================\n",
      "Variational Inference for\n",
      "[-27.16468051 -24.2812309  -26.20471936 -23.84161743 -25.14834661\n",
      " -27.25202516 -23.00721414 -24.27174248 -26.37322399 -23.43780987\n",
      " -23.94822231 -29.792199   -26.96746465 -23.70088895 -27.52988606\n",
      " -26.23583036 -29.26425526 -26.13724838 -24.63185744 -26.75163968\n",
      " -24.75437329 -25.82141135 -23.02831445 -23.60552891 -24.03320858\n",
      " -23.7174772  -23.79387491 -26.85531466 -24.79009173 -28.21154689\n",
      " -23.61018465 -25.51640665 -24.05683455 -24.72418855 -25.91972732\n",
      " -30.71915316 -24.4697894  -25.36625536 -26.783664   -24.49397062\n",
      " -27.96781156 -23.81996054 -28.74193969 -24.6098656  -25.82793985\n",
      " -23.44804597 -25.99795341 -23.57177164 -23.56639795 -26.2476346\n",
      " -25.32884376 -24.32573656 -23.77180042 -24.15739403 -24.44765653\n",
      " -25.67225852 -24.92087607 -25.31234788 -28.70709741 -23.54901304\n",
      " -25.42843163 -23.21573132 -33.29277983 -25.42909049 -24.11205532\n",
      " -24.32101333 -25.15425805 -23.12039146 -24.4282791  -24.02429359\n",
      " -25.88037836 -24.32394714 -23.23430832 -24.35159122 -23.74861639\n",
      " -27.703424   -28.84838093 -24.15666822 -23.46880552 -26.50369604\n",
      " -30.4407958  -30.58883925 -27.70353846 -24.8129443  -23.40780117\n",
      " -23.27267069 -25.2847119  -24.90302309 -26.03233565 -25.27866409\n",
      " -23.20798365 -26.82719773 -28.44336673 -30.03061503 -25.30683489\n",
      " -24.65234582 -24.85292322 -31.49740568 -26.62420933 -23.96591169\n",
      " -29.96233902 -23.08889554 -27.84767744 -23.65346368 -24.31921746\n",
      " -24.30600176 -25.47240969 -24.37839171 -26.90465589 -23.00675818\n",
      " -25.20343303 -29.61366039 -28.88775002 -27.67488316 -25.54441004\n",
      " -47.51874561 -23.85919298 -23.56941933 -23.16532686 -31.51794684\n",
      " -23.68659075 -32.39305938 -25.31525631 -24.07116915 -23.40407711\n",
      " -29.5659554  -23.50523171 -23.70173632 -24.03726661 -24.59735754\n",
      " -24.81425989 -23.64387465 -23.48140004 -26.05520775 -25.57470703\n",
      " -28.6395886  -29.67489141 -26.39948209 -32.2364018  -23.50048437\n",
      " -25.57380616 -24.35605303 -24.67034754 -24.17021034 -31.63798258\n",
      " -23.10934568 -23.18002185 -24.93315648 -23.42046842 -29.97235813\n",
      " -24.97654773 -23.59119179 -25.26927196 -23.91972056 -29.22242666\n",
      " -27.84720978 -26.50378861 -24.62647922 -26.24117662 -23.33366447\n",
      " -22.92855661 -33.30852067 -25.41679021 -24.06562707 -26.47146738\n",
      " -28.13163752 -29.28217591]\n",
      "The truth value of an array with more than one ele\n",
      "==============================\n",
      "Gaussian Mixture Model\n",
      "[-21.1476246  -15.40338134 -19.23524495 -14.52760855 -17.13079963\n",
      " -21.3216276  -12.86535808 -15.38447905 -19.57093023 -13.72316625\n",
      " -14.73998069 -26.38201651 -20.75474244 -14.24725734 -21.87516618\n",
      " -19.29722249 -25.33027723 -19.10083312 -16.10187947 -20.3247883\n",
      " -16.34594853 -18.47164068 -12.90739291 -14.05728652 -14.90928548\n",
      " -14.2803035  -14.43249864 -20.53132365 -16.41710477 -23.23313188\n",
      " -14.06656141 -17.86402776 -14.95635179 -16.28581623 -18.66750012\n",
      " -28.22864153 -15.77901679 -17.56490496 -20.38858531 -15.82718924\n",
      " -22.74757629 -14.48446494 -24.28975004 -16.05806858 -18.48464638\n",
      " -13.74355802 -18.82333765 -13.99003721 -13.97933206 -19.32073823\n",
      " -17.4903757  -15.49204298 -14.38852311 -15.15668063 -15.73492495\n",
      " -18.17450694 -16.67764583 -17.45751355 -24.22033924 -13.94469883\n",
      " -17.68876896 -13.28075407 -33.35567326 -17.6900815  -15.06635943\n",
      " -15.48263361 -17.14257605 -13.09082346 -15.69632236 -14.89152554\n",
      " -18.58911136 -15.4884782  -13.31776211 -15.54354914 -14.34233721\n",
      " -22.22087852 -24.50179619 -15.1552347  -13.78491401 -19.83084917\n",
      " -27.67411393 -27.96903762 -22.22110656 -16.46263034 -13.66338464\n",
      " -13.39418542 -17.40245874 -16.64208015 -18.89183199 -17.39041065\n",
      " -13.26531962 -20.47531073 -23.69495009 -26.85697528 -17.4465309\n",
      " -16.14269523 -16.54227405 -29.77903165 -20.07092885 -14.77522046\n",
      " -26.72095973 -13.02807909 -22.50825197 -14.15277942 -15.47905599\n",
      " -15.45272844 -17.77637955 -15.59693955 -20.62961842 -12.86444975\n",
      " -17.24053963 -26.02634211 -24.58022502 -22.16402111 -17.91981452\n",
      " -61.6958279  -14.56262155 -13.98535108 -13.18034119 -29.81995257\n",
      " -14.21877327 -31.56330167 -17.46330757 -14.98490835 -13.65596578\n",
      " -25.93130696 -13.85748019 -14.24894541 -14.91736966 -16.03315074\n",
      " -16.46525118 -14.1336767  -13.81000408 -18.93739647 -17.98017045\n",
      " -24.08585206 -26.14832306 -19.6232401  -31.25121741 -13.84802279\n",
      " -17.97837578 -15.55243771 -16.17855725 -15.18221253 -30.05908089\n",
      " -13.0688187  -13.20961571 -16.70211017 -13.68861961 -26.74091922\n",
      " -16.78855172 -14.02872492 -17.37170017 -14.68320114 -25.24694867\n",
      " -22.50732032 -19.83103358 -16.09116528 -19.30787301 -13.51569374\n",
      " -12.70866105 -33.38703125 -17.66557759 -14.97386773 -19.76664507\n",
      " -23.073941   -25.36597771]\n",
      "The truth value of an array with more than one ele\n",
      "==============================\n",
      "Variational Inference for\n",
      "[-27.16468051 -24.2812309  -26.20471936 -23.84161743 -25.14834661\n",
      " -27.25202516 -23.00721414 -24.27174248 -26.37322399 -23.43780987\n",
      " -23.94822231 -29.792199   -26.96746465 -23.70088895 -27.52988606\n",
      " -26.23583036 -29.26425526 -26.13724838 -24.63185744 -26.75163968\n",
      " -24.75437329 -25.82141135 -23.02831445 -23.60552891 -24.03320858\n",
      " -23.7174772  -23.79387491 -26.85531466 -24.79009173 -28.21154689\n",
      " -23.61018465 -25.51640665 -24.05683455 -24.72418855 -25.91972732\n",
      " -30.71915316 -24.4697894  -25.36625536 -26.783664   -24.49397062\n",
      " -27.96781156 -23.81996054 -28.74193969 -24.6098656  -25.82793985\n",
      " -23.44804597 -25.99795341 -23.57177164 -23.56639795 -26.2476346\n",
      " -25.32884376 -24.32573656 -23.77180042 -24.15739403 -24.44765653\n",
      " -25.67225852 -24.92087607 -25.31234788 -28.70709741 -23.54901304\n",
      " -25.42843163 -23.21573132 -33.29277983 -25.42909049 -24.11205532\n",
      " -24.32101333 -25.15425805 -23.12039146 -24.4282791  -24.02429359\n",
      " -25.88037836 -24.32394714 -23.23430832 -24.35159122 -23.74861639\n",
      " -27.703424   -28.84838093 -24.15666822 -23.46880552 -26.50369604\n",
      " -30.4407958  -30.58883925 -27.70353846 -24.8129443  -23.40780117\n",
      " -23.27267069 -25.2847119  -24.90302309 -26.03233565 -25.27866409\n",
      " -23.20798365 -26.82719773 -28.44336673 -30.03061503 -25.30683489\n",
      " -24.65234582 -24.85292322 -31.49740568 -26.62420933 -23.96591169\n",
      " -29.96233902 -23.08889554 -27.84767744 -23.65346368 -24.31921746\n",
      " -24.30600176 -25.47240969 -24.37839171 -26.90465589 -23.00675818\n",
      " -25.20343303 -29.61366039 -28.88775002 -27.67488316 -25.54441004\n",
      " -47.51874561 -23.85919298 -23.56941933 -23.16532686 -31.51794684\n",
      " -23.68659075 -32.39305938 -25.31525631 -24.07116915 -23.40407711\n",
      " -29.5659554  -23.50523171 -23.70173632 -24.03726661 -24.59735754\n",
      " -24.81425989 -23.64387465 -23.48140004 -26.05520775 -25.57470703\n",
      " -28.6395886  -29.67489141 -26.39948209 -32.2364018  -23.50048437\n",
      " -25.57380616 -24.35605303 -24.67034754 -24.17021034 -31.63798258\n",
      " -23.10934568 -23.18002185 -24.93315648 -23.42046842 -29.97235813\n",
      " -24.97654773 -23.59119179 -25.26927196 -23.91972056 -29.22242666\n",
      " -27.84720978 -26.50378861 -24.62647922 -26.24117662 -23.33366447\n",
      " -22.92855661 -33.30852067 -25.41679021 -24.06562707 -26.47146738\n",
      " -28.13163752 -29.28217591]\n",
      "The truth value of an array with more than one ele\n",
      "==============================\n",
      "Quadratic Discrimina\n",
      "Algo de classification\n",
      "==============================\n",
      "Bayesian ARD regression.\n",
      "0.772964622391\n",
      "==============================\n",
      "Bayesian ridge regression\n",
      "0.778898988382\n",
      "==============================\n",
      "Linear regression with co\n",
      "0.697513414461\n",
      "==============================\n",
      "Elastic Net model with it\n",
      "0.777743740846\n",
      "==============================\n",
      "Least Angle Regression mo\n",
      "0.725424890328\n",
      "==============================\n",
      "Cross-validated Least Ang\n",
      "0.725424890328\n",
      "==============================\n",
      "Linear Model trained with\n",
      "0.700672336948\n",
      "==============================\n",
      "Lasso linear model with i\n",
      "0.777011970703\n",
      "==============================\n",
      "Lasso model fit with Leas\n",
      "-0.0292153859277\n",
      "==============================\n",
      "Cross-validated Lasso, us\n",
      "0.777007945634\n",
      "==============================\n",
      "Lasso model fit with Lars\n",
      "0.776890608015\n",
      "==============================\n",
      "Ordinary least squar\n",
      "0.777007945634\n",
      "==============================\n",
      "Logistic Regression (aka\n",
      "Algo de classification\n",
      "==============================\n",
      "Logistic Regression CV (a\n",
      "Algo de classification\n",
      "==============================\n",
      "Multi-task ElasticNet mod\n",
      "For mono-task outputs, use ElasticNet\n",
      "==============================\n",
      "Multi-task L1/L2 ElasticN\n",
      "For mono-task outputs, use ElasticNetCV\n",
      "==============================\n",
      "Multi-task Lasso model tr\n",
      "For mono-task outputs, use ElasticNet\n",
      "==============================\n",
      "Multi-task L1/L2 Lasso wi\n",
      "For mono-task outputs, use LassoCV\n",
      "==============================\n",
      "Orthogonal Matching Pursu\n",
      "0.573238412208\n",
      "==============================\n",
      "Cross-validated Orthogona\n",
      "0.718328539979\n",
      "==============================\n",
      "Passive Aggressive Classi\n",
      "Algo de classification\n",
      "==============================\n",
      "Passive Aggressive Regres\n",
      "0.634834214952\n",
      "==============================\n",
      "Perceptron\n",
      "\n",
      "    Read more\n",
      "Algo de classification\n",
      "==============================\n",
      "RANSAC (RANdom SAmple Con\n",
      "0.223287926031\n",
      "==============================\n",
      "Randomized Lasso.\n",
      "\n",
      "    Ra\n",
      "'RandomizedLasso' object has no attribute 'score'\n",
      "==============================\n",
      "Randomized Logistic Regre\n",
      "Algo de classification\n",
      "==============================\n",
      "Linear least squares with\n",
      "0.777432374605\n",
      "==============================\n",
      "Ridge regression with bui\n",
      "0.779426221191\n",
      "==============================\n",
      "Classifier using Ridge re\n",
      "Algo de classification\n",
      "==============================\n",
      "Ridge classifier with bui\n",
      "Algo de classification\n",
      "==============================\n",
      "Linear classifiers (SVM,\n",
      "Algo de classification\n",
      "==============================\n",
      "Linear model fitted by mi\n",
      "0.773798848112\n",
      "==============================\n",
      "Theil-Sen Estimator\n",
      "0.661523961241\n",
      "==============================\n",
      "CCA Canonical Correlation\n",
      "0.727265977102\n",
      "==============================\n",
      "PLSCanonical implements\n",
      "-1.94521298209\n",
      "==============================\n",
      "PLS regression\n",
      "\n",
      "    PLSRe\n",
      "0.777118383767\n",
      "==============================\n",
      "Partial Least Square SVD\n",
      "'PLSSVD' object has no attribute 'score'\n",
      "==============================\n",
      "Label Propagation classif\n",
      "Algo de classification\n",
      "==============================\n",
      "LabelSpreading model for\n",
      "Algo de classification\n",
      "==============================\n",
      "An object for detecting o\n",
      "Can't handle mix of continuous and binary\n",
      "==============================\n",
      "Maximum likelihood covari\n",
      "-14.197396605\n",
      "==============================\n",
      "Sparse inverse covariance\n",
      "-14.1647086442\n",
      "==============================\n",
      "Sparse inverse covariance\n"
     ]
    },
    {
     "name": "stderr",
     "output_type": "stream",
     "text": [
      "/Users/romain/anaconda/lib/python2.7/site-packages/sklearn/covariance/robust_covariance.py:161: RuntimeWarning: Warning! det > previous_det (-24.091183264301868 > -90.134471787543902)\n",
      "  % (det, previous_det), RuntimeWarning)\n",
      "/Users/romain/anaconda/lib/python2.7/site-packages/sklearn/covariance/robust_covariance.py:161: RuntimeWarning: Warning! det > previous_det (-23.753788500232091 > -89.489587791960219)\n",
      "  % (det, previous_det), RuntimeWarning)\n",
      "/Users/romain/anaconda/lib/python2.7/site-packages/sklearn/covariance/robust_covariance.py:161: RuntimeWarning: Warning! det > previous_det (-23.901876374530595 > -89.137821813328230)\n",
      "  % (det, previous_det), RuntimeWarning)\n",
      "/Users/romain/anaconda/lib/python2.7/site-packages/sklearn/covariance/robust_covariance.py:161: RuntimeWarning: Warning! det > previous_det (-23.701920500135099 > -89.786966992631221)\n",
      "  % (det, previous_det), RuntimeWarning)\n",
      "/Users/romain/anaconda/lib/python2.7/site-packages/sklearn/covariance/robust_covariance.py:161: RuntimeWarning: Warning! det > previous_det (-23.975314039510678 > -90.131982077099622)\n",
      "  % (det, previous_det), RuntimeWarning)\n",
      "/Users/romain/anaconda/lib/python2.7/site-packages/sklearn/covariance/robust_covariance.py:161: RuntimeWarning: Warning! det > previous_det (-24.606382077501436 > -90.534563612753985)\n",
      "  % (det, previous_det), RuntimeWarning)\n",
      "/Users/romain/anaconda/lib/python2.7/site-packages/sklearn/covariance/robust_covariance.py:161: RuntimeWarning: Warning! det > previous_det (-23.620307089360566 > -89.308169919491192)\n",
      "  % (det, previous_det), RuntimeWarning)\n",
      "/Users/romain/anaconda/lib/python2.7/site-packages/sklearn/covariance/robust_covariance.py:161: RuntimeWarning: Warning! det > previous_det (-23.825660755499847 > -89.350495443968825)\n",
      "  % (det, previous_det), RuntimeWarning)\n",
      "/Users/romain/anaconda/lib/python2.7/site-packages/sklearn/covariance/robust_covariance.py:161: RuntimeWarning: Warning! det > previous_det (-23.794033380564528 > -89.836737877742465)\n",
      "  % (det, previous_det), RuntimeWarning)\n",
      "/Users/romain/anaconda/lib/python2.7/site-packages/sklearn/covariance/robust_covariance.py:161: RuntimeWarning: Warning! det > previous_det (-22.989628205029618 > -88.602736000808818)\n",
      "  % (det, previous_det), RuntimeWarning)\n",
      "/Users/romain/anaconda/lib/python2.7/site-packages/sklearn/covariance/robust_covariance.py:161: RuntimeWarning: Warning! det > previous_det (-23.841759246732259 > -89.658788300371114)\n",
      "  % (det, previous_det), RuntimeWarning)\n",
      "/Users/romain/anaconda/lib/python2.7/site-packages/sklearn/covariance/robust_covariance.py:161: RuntimeWarning: Warning! det > previous_det (-23.320778099062998 > -88.719689746599073)\n",
      "  % (det, previous_det), RuntimeWarning)\n",
      "/Users/romain/anaconda/lib/python2.7/site-packages/sklearn/covariance/robust_covariance.py:161: RuntimeWarning: Warning! det > previous_det (-23.331239807893574 > -89.185073015152767)\n",
      "  % (det, previous_det), RuntimeWarning)\n",
      "/Users/romain/anaconda/lib/python2.7/site-packages/sklearn/covariance/robust_covariance.py:161: RuntimeWarning: Warning! det > previous_det (-23.629778935180507 > -89.709093948924362)\n",
      "  % (det, previous_det), RuntimeWarning)\n",
      "/Users/romain/anaconda/lib/python2.7/site-packages/sklearn/covariance/robust_covariance.py:161: RuntimeWarning: Warning! det > previous_det (-23.390880562946133 > -89.148183865257337)\n",
      "  % (det, previous_det), RuntimeWarning)\n",
      "/Users/romain/anaconda/lib/python2.7/site-packages/sklearn/covariance/robust_covariance.py:161: RuntimeWarning: Warning! det > previous_det (-23.381450696282872 > -88.992656449925647)\n",
      "  % (det, previous_det), RuntimeWarning)\n",
      "/Users/romain/anaconda/lib/python2.7/site-packages/sklearn/covariance/robust_covariance.py:161: RuntimeWarning: Warning! det > previous_det (-23.600791905917411 > -89.169756668482961)\n",
      "  % (det, previous_det), RuntimeWarning)\n",
      "/Users/romain/anaconda/lib/python2.7/site-packages/sklearn/covariance/robust_covariance.py:161: RuntimeWarning: Warning! det > previous_det (-24.439940668074858 > -90.013235309491989)\n",
      "  % (det, previous_det), RuntimeWarning)\n",
      "/Users/romain/anaconda/lib/python2.7/site-packages/sklearn/covariance/robust_covariance.py:161: RuntimeWarning: Warning! det > previous_det (-23.835985498663312 > -89.946663919945337)\n",
      "  % (det, previous_det), RuntimeWarning)\n",
      "/Users/romain/anaconda/lib/python2.7/site-packages/sklearn/covariance/robust_covariance.py:161: RuntimeWarning: Warning! det > previous_det (-23.419028660528280 > -89.900338800305633)\n",
      "  % (det, previous_det), RuntimeWarning)\n",
      "/Users/romain/anaconda/lib/python2.7/site-packages/sklearn/covariance/robust_covariance.py:161: RuntimeWarning: Warning! det > previous_det (-24.016034973613607 > -89.611204137069478)\n",
      "  % (det, previous_det), RuntimeWarning)\n",
      "/Users/romain/anaconda/lib/python2.7/site-packages/sklearn/covariance/robust_covariance.py:161: RuntimeWarning: Warning! det > previous_det (-23.327106259387552 > -89.173001268242743)\n",
      "  % (det, previous_det), RuntimeWarning)\n",
      "/Users/romain/anaconda/lib/python2.7/site-packages/sklearn/covariance/robust_covariance.py:161: RuntimeWarning: Warning! det > previous_det (-23.654682410459568 > -89.513435844544773)\n",
      "  % (det, previous_det), RuntimeWarning)\n",
      "/Users/romain/anaconda/lib/python2.7/site-packages/sklearn/covariance/robust_covariance.py:161: RuntimeWarning: Warning! det > previous_det (-24.850211371368299 > -90.907908115190764)\n",
      "  % (det, previous_det), RuntimeWarning)\n",
      "/Users/romain/anaconda/lib/python2.7/site-packages/sklearn/covariance/robust_covariance.py:161: RuntimeWarning: Warning! det > previous_det (-23.487148816966815 > -89.615318304818871)\n",
      "  % (det, previous_det), RuntimeWarning)\n",
      "/Users/romain/anaconda/lib/python2.7/site-packages/sklearn/covariance/robust_covariance.py:161: RuntimeWarning: Warning! det > previous_det (-24.036032857693229 > -89.434143176646955)\n",
      "  % (det, previous_det), RuntimeWarning)\n",
      "/Users/romain/anaconda/lib/python2.7/site-packages/sklearn/covariance/robust_covariance.py:161: RuntimeWarning: Warning! det > previous_det (-23.705833151994426 > -89.280160703249607)\n",
      "  % (det, previous_det), RuntimeWarning)\n",
      "/Users/romain/anaconda/lib/python2.7/site-packages/sklearn/covariance/robust_covariance.py:161: RuntimeWarning: Warning! det > previous_det (-23.969964687629933 > -89.141129609838003)\n",
      "  % (det, previous_det), RuntimeWarning)\n",
      "/Users/romain/anaconda/lib/python2.7/site-packages/sklearn/covariance/robust_covariance.py:161: RuntimeWarning: Warning! det > previous_det (-23.623983596859766 > -89.890746569012023)\n",
      "  % (det, previous_det), RuntimeWarning)\n",
      "/Users/romain/anaconda/lib/python2.7/site-packages/sklearn/covariance/robust_covariance.py:161: RuntimeWarning: Warning! det > previous_det (-25.859054356076452 > -93.443959293345884)\n",
      "  % (det, previous_det), RuntimeWarning)\n",
      "/Users/romain/anaconda/lib/python2.7/site-packages/sklearn/covariance/robust_covariance.py:161: RuntimeWarning: Warning! det > previous_det (-26.230990468314410 > -93.741603842959421)\n",
      "  % (det, previous_det), RuntimeWarning)\n",
      "/Users/romain/anaconda/lib/python2.7/site-packages/sklearn/covariance/robust_covariance.py:161: RuntimeWarning: Warning! det > previous_det (-26.274010501292597 > -93.592549432733364)\n",
      "  % (det, previous_det), RuntimeWarning)\n",
      "/Users/romain/anaconda/lib/python2.7/site-packages/sklearn/covariance/robust_covariance.py:161: RuntimeWarning: Warning! det > previous_det (-26.061409308304818 > -93.483702890793580)\n",
      "  % (det, previous_det), RuntimeWarning)\n",
      "/Users/romain/anaconda/lib/python2.7/site-packages/sklearn/covariance/robust_covariance.py:161: RuntimeWarning: Warning! det > previous_det (-25.923500648861676 > -92.993881766760126)\n",
      "  % (det, previous_det), RuntimeWarning)\n",
      "/Users/romain/anaconda/lib/python2.7/site-packages/sklearn/covariance/robust_covariance.py:161: RuntimeWarning: Warning! det > previous_det (-26.171772971461639 > -93.610530608240595)\n",
      "  % (det, previous_det), RuntimeWarning)\n"
     ]
    },
    {
     "name": "stdout",
     "output_type": "stream",
     "text": [
      "-15.0461176366\n",
      "==============================\n",
      "LedoitWolf Estimator\n",
      "-14.1693169341\n",
      "==============================\n",
      "Minimum Covariance Determ\n",
      "-146.608930263\n",
      "==============================\n",
      "Oracle Approximating Shri\n",
      "-14.1686256777\n",
      "==============================\n",
      "Covariance estimator with\n",
      "-14.3217413325\n",
      "==============================\n",
      "Binarize data (set featur\n",
      "'Binarizer' object has no attribute 'score'\n",
      "==============================\n",
      "Constructs a transformer\n",
      "'FunctionTransformer' object has no attribute 'sco\n",
      "==============================\n",
      "Imputation transformer fo\n",
      "'Imputer' object has no attribute 'score'\n",
      "==============================\n",
      "Center a kernel matrix\n",
      "'KernelCenterer' object has no attribute 'score'\n",
      "==============================\n",
      "Binarize labels in a one-\n",
      "fit() takes exactly 2 arguments (3 given)\n",
      "==============================\n",
      "Encode labels with value\n",
      "fit() takes exactly 2 arguments (3 given)\n",
      "==============================\n",
      "Scale each feature by its\n",
      "'MaxAbsScaler' object has no attribute 'score'\n",
      "==============================\n",
      "Transforms features by sc\n",
      "'MinMaxScaler' object has no attribute 'score'\n",
      "==============================\n",
      "Transform between iterabl\n",
      "fit() takes exactly 2 arguments (3 given)\n",
      "==============================\n",
      "Normalize samples individ\n",
      "'Normalizer' object has no attribute 'score'\n",
      "==============================\n",
      "Encode categorical intege\n",
      "X needs to contain only non-negative integers.\n",
      "==============================\n",
      "Generate polynomial and i\n",
      "'PolynomialFeatures' object has no attribute 'scor\n",
      "==============================\n",
      "Scale features using stat\n",
      "'RobustScaler' object has no attribute 'score'\n",
      "==============================\n",
      "Standardize features by r\n",
      "'StandardScaler' object has no attribute 'score'\n",
      "==============================\n",
      "Univariate feature select\n",
      "'GenericUnivariateSelect' object has no attribute \n",
      "==============================\n",
      "__init__() takes at least 2 arguments (1 given)\n",
      "==============================\n",
      "__init__() takes at least 2 arguments (1 given)\n",
      "==============================\n",
      "Filter\n",
      "'SelectFdr' object has no attribute 'score'\n",
      "==============================\n",
      "Filter\n",
      "'SelectFpr' object has no attribute 'score'\n",
      "==============================\n",
      "__init__() takes at least 2 arguments (1 given)\n",
      "==============================\n",
      "Filter\n",
      "'SelectFwe' object has no attribute 'score'\n",
      "==============================\n",
      "Select features according\n",
      "'SelectKBest' object has no attribute 'score'\n",
      "==============================\n",
      "Select features according\n",
      "'SelectPercentile' object has no attribute 'score'\n",
      "==============================\n",
      "Feature selector that rem\n",
      "'VarianceThreshold' object has no attribute 'score\n",
      "==============================\n",
      "DummyClassifier is a\n",
      "continuous is not supported\n",
      "==============================\n",
      "DummyRegressor is a\n",
      "-0.0292153859277\n",
      "==============================\n",
      "__init__() takes at least 2 arguments (1 given)\n",
      "==============================\n",
      "__init__() takes exactly 2 arguments (1 given)\n",
      "==============================\n",
      "Linear Support Vector Cla\n",
      "Algo de classification\n",
      "==============================\n",
      "Linear Support Vector Reg\n",
      "0.768642824476\n",
      "==============================\n",
      "Nu-Support Vector Classif\n",
      "Algo de classification\n",
      "==============================\n",
      "Nu Support Vector Regress\n",
      "0.653425350676\n",
      "==============================\n",
      "Unsupervised Outlier Dete\n",
      "'OneClassSVM' object has no attribute 'score'\n",
      "==============================\n",
      "C-Support Vector Classifi\n",
      "Algo de classification\n",
      "==============================\n",
      "Epsilon-Support Vector Re\n",
      "0.671201218266\n",
      "==============================\n",
      "'module' object is not callable\n",
      "==============================\n",
      "Can't instantiate abstract class BaseRandomProject\n",
      "==============================\n",
      "Reduce dimensionality thr\n",
      "eps=0.100000 and n_samples=339 lead to a target di\n",
      "==============================\n",
      "Reduce dimensionality thr\n",
      "eps=0.100000 and n_samples=339 lead to a target di\n",
      "==============================\n",
      "A decision tree classifie\n",
      "Algo de classification\n",
      "==============================\n",
      "A decision tree regressor\n",
      "0.786564118243\n",
      "==============================\n",
      "An extremely randomized t\n",
      "Algo de classification\n",
      "==============================\n",
      "An extremely randomized t\n",
      "0.789667056162\n",
      "==============================\n",
      "The Gaussian Process mode\n",
      "0.628447483061\n",
      "==============================\n"
     ]
    },
    {
     "name": "stderr",
     "output_type": "stream",
     "text": [
      "/Users/romain/anaconda/lib/python2.7/site-packages/sklearn/covariance/robust_covariance.py:161: RuntimeWarning: Warning! det > previous_det (-23.587926874979310 > -89.639422556838952)\n",
      "  % (det, previous_det), RuntimeWarning)\n",
      "/Users/romain/anaconda/lib/python2.7/site-packages/sklearn/covariance/robust_covariance.py:161: RuntimeWarning: Warning! det > previous_det (-23.385112684882106 > -89.165365371863288)\n",
      "  % (det, previous_det), RuntimeWarning)\n",
      "/Users/romain/anaconda/lib/python2.7/site-packages/sklearn/covariance/robust_covariance.py:161: RuntimeWarning: Warning! det > previous_det (-24.385261092935881 > -89.962967854845175)\n",
      "  % (det, previous_det), RuntimeWarning)\n",
      "/Users/romain/anaconda/lib/python2.7/site-packages/sklearn/covariance/robust_covariance.py:161: RuntimeWarning: Warning! det > previous_det (-23.284464342775230 > -89.188267684730690)\n",
      "  % (det, previous_det), RuntimeWarning)\n",
      "/Users/romain/anaconda/lib/python2.7/site-packages/sklearn/covariance/robust_covariance.py:161: RuntimeWarning: Warning! det > previous_det (-24.229448190840177 > -89.811191716009958)\n",
      "  % (det, previous_det), RuntimeWarning)\n",
      "/Users/romain/anaconda/lib/python2.7/site-packages/sklearn/covariance/robust_covariance.py:161: RuntimeWarning: Warning! det > previous_det (-23.783798416548141 > -88.995392450424887)\n",
      "  % (det, previous_det), RuntimeWarning)\n",
      "/Users/romain/anaconda/lib/python2.7/site-packages/sklearn/covariance/robust_covariance.py:161: RuntimeWarning: Warning! det > previous_det (-24.767901899346395 > -90.172617112489093)\n",
      "  % (det, previous_det), RuntimeWarning)\n",
      "/Users/romain/anaconda/lib/python2.7/site-packages/sklearn/covariance/robust_covariance.py:161: RuntimeWarning: Warning! det > previous_det (-23.602377525448091 > -89.367738100337817)\n",
      "  % (det, previous_det), RuntimeWarning)\n",
      "/Users/romain/anaconda/lib/python2.7/site-packages/sklearn/covariance/robust_covariance.py:161: RuntimeWarning: Warning! det > previous_det (-24.203580384472168 > -89.774549515084814)\n",
      "  % (det, previous_det), RuntimeWarning)\n",
      "/Users/romain/anaconda/lib/python2.7/site-packages/sklearn/covariance/robust_covariance.py:161: RuntimeWarning: Warning! det > previous_det (-24.049590316280472 > -89.751497264372532)\n",
      "  % (det, previous_det), RuntimeWarning)\n",
      "/Users/romain/anaconda/lib/python2.7/site-packages/sklearn/covariance/robust_covariance.py:161: RuntimeWarning: Warning! det > previous_det (-24.340229029711061 > -90.427423403202113)\n",
      "  % (det, previous_det), RuntimeWarning)\n",
      "/Users/romain/anaconda/lib/python2.7/site-packages/sklearn/covariance/robust_covariance.py:161: RuntimeWarning: Warning! det > previous_det (-24.268668017443179 > -89.749849192138313)\n",
      "  % (det, previous_det), RuntimeWarning)\n",
      "/Users/romain/anaconda/lib/python2.7/site-packages/sklearn/covariance/robust_covariance.py:161: RuntimeWarning: Warning! det > previous_det (-23.432379810450328 > -89.378051711618298)\n",
      "  % (det, previous_det), RuntimeWarning)\n",
      "/Users/romain/anaconda/lib/python2.7/site-packages/sklearn/covariance/robust_covariance.py:161: RuntimeWarning: Warning! det > previous_det (-23.478746775529252 > -89.467350023470743)\n",
      "  % (det, previous_det), RuntimeWarning)\n",
      "/Users/romain/anaconda/lib/python2.7/site-packages/sklearn/covariance/robust_covariance.py:161: RuntimeWarning: Warning! det > previous_det (-23.853137739261467 > -89.939395319338558)\n",
      "  % (det, previous_det), RuntimeWarning)\n",
      "/Users/romain/anaconda/lib/python2.7/site-packages/sklearn/covariance/robust_covariance.py:161: RuntimeWarning: Warning! det > previous_det (-23.278666972535600 > -89.584498378689062)\n",
      "  % (det, previous_det), RuntimeWarning)\n",
      "/Users/romain/anaconda/lib/python2.7/site-packages/sklearn/covariance/robust_covariance.py:161: RuntimeWarning: Warning! det > previous_det (-23.871296954007448 > -89.422933075646924)\n",
      "  % (det, previous_det), RuntimeWarning)\n",
      "/Users/romain/anaconda/lib/python2.7/site-packages/sklearn/covariance/robust_covariance.py:161: RuntimeWarning: Warning! det > previous_det (-24.126870222881088 > -90.267871511886611)\n",
      "  % (det, previous_det), RuntimeWarning)\n",
      "/Users/romain/anaconda/lib/python2.7/site-packages/sklearn/covariance/robust_covariance.py:161: RuntimeWarning: Warning! det > previous_det (-23.652188121953607 > -89.160774393886967)\n",
      "  % (det, previous_det), RuntimeWarning)\n",
      "/Users/romain/anaconda/lib/python2.7/site-packages/sklearn/covariance/robust_covariance.py:161: RuntimeWarning: Warning! det > previous_det (-23.544347377064661 > -89.588434126408615)\n",
      "  % (det, previous_det), RuntimeWarning)\n",
      "/Users/romain/anaconda/lib/python2.7/site-packages/sklearn/covariance/robust_covariance.py:161: RuntimeWarning: Warning! det > previous_det (-23.277166144412675 > -89.060925273270811)\n",
      "  % (det, previous_det), RuntimeWarning)\n",
      "/Users/romain/anaconda/lib/python2.7/site-packages/sklearn/covariance/robust_covariance.py:161: RuntimeWarning: Warning! det > previous_det (-24.172528173473772 > -90.660112540257856)\n",
      "  % (det, previous_det), RuntimeWarning)\n",
      "/Users/romain/anaconda/lib/python2.7/site-packages/sklearn/covariance/robust_covariance.py:161: RuntimeWarning: Warning! det > previous_det (-23.402482685978889 > -88.815638225012549)\n",
      "  % (det, previous_det), RuntimeWarning)\n",
      "/Users/romain/anaconda/lib/python2.7/site-packages/sklearn/covariance/robust_covariance.py:161: RuntimeWarning: Warning! det > previous_det (-24.255330675125023 > -90.221399570081743)\n",
      "  % (det, previous_det), RuntimeWarning)\n",
      "/Users/romain/anaconda/lib/python2.7/site-packages/sklearn/covariance/robust_covariance.py:161: RuntimeWarning: Warning! det > previous_det (-23.847047848045637 > -89.206739874000675)\n",
      "  % (det, previous_det), RuntimeWarning)\n",
      "/Users/romain/anaconda/lib/python2.7/site-packages/sklearn/covariance/robust_covariance.py:161: RuntimeWarning: Warning! det > previous_det (-24.653293688506057 > -90.793536707807021)\n",
      "  % (det, previous_det), RuntimeWarning)\n",
      "/Users/romain/anaconda/lib/python2.7/site-packages/sklearn/covariance/robust_covariance.py:161: RuntimeWarning: Warning! det > previous_det (-23.601967543304980 > -89.270765619641722)\n",
      "  % (det, previous_det), RuntimeWarning)\n",
      "/Users/romain/anaconda/lib/python2.7/site-packages/sklearn/covariance/robust_covariance.py:161: RuntimeWarning: Warning! det > previous_det (-23.364941986648482 > -89.343407289912278)\n",
      "  % (det, previous_det), RuntimeWarning)\n",
      "/Users/romain/anaconda/lib/python2.7/site-packages/sklearn/covariance/robust_covariance.py:161: RuntimeWarning: Warning! det > previous_det (-23.297703098598380 > -89.126999024507583)\n",
      "  % (det, previous_det), RuntimeWarning)\n",
      "/Users/romain/anaconda/lib/python2.7/site-packages/sklearn/covariance/robust_covariance.py:161: RuntimeWarning: Warning! det > previous_det (-26.294789393998421 > -93.816344146544054)\n",
      "  % (det, previous_det), RuntimeWarning)\n",
      "/Users/romain/anaconda/lib/python2.7/site-packages/sklearn/covariance/robust_covariance.py:161: RuntimeWarning: Warning! det > previous_det (-26.276876368754742 > -93.735571969304161)\n",
      "  % (det, previous_det), RuntimeWarning)\n",
      "/Users/romain/anaconda/lib/python2.7/site-packages/sklearn/covariance/robust_covariance.py:161: RuntimeWarning: Warning! det > previous_det (-26.208740912815042 > -93.671706601250150)\n",
      "  % (det, previous_det), RuntimeWarning)\n",
      "/Users/romain/anaconda/lib/python2.7/site-packages/sklearn/covariance/robust_covariance.py:161: RuntimeWarning: Warning! det > previous_det (-26.074036442127284 > -93.257948352287173)\n",
      "  % (det, previous_det), RuntimeWarning)\n",
      "/Users/romain/anaconda/lib/python2.7/site-packages/sklearn/covariance/robust_covariance.py:161: RuntimeWarning: Warning! det > previous_det (-26.061409308304818 > -93.357826612371980)\n",
      "  % (det, previous_det), RuntimeWarning)\n",
      "/Users/romain/anaconda/lib/python2.7/site-packages/sklearn/covariance/robust_covariance.py:161: RuntimeWarning: Warning! det > previous_det (-25.804634612732254 > -93.330580566944619)\n",
      "  % (det, previous_det), RuntimeWarning)\n"
     ]
    }
   ],
   "source": [
    "performances               = {}\n",
    "modeles_a_tester           = []\n",
    "classes_de_models_a_tester = algos.keys()\n",
    "best_algorithm = 0\n",
    "best_perf = 0\n",
    "for classe_de_models in classes_de_models_a_tester:\n",
    "    modeles_a_tester.extend(algos[classe_de_models])\n",
    "    \n",
    "for pointeur_vers_algo in modeles_a_tester:\n",
    "    try:\n",
    "        algorithme = pointeur_vers_algo()\n",
    "        doc        = algorithme.__doc__\n",
    "        name       = doc[:min(doc.find(\":\"), 25)].strip()\n",
    "        print name\n",
    "        algorithme.fit(X_train, y_train)\n",
    "        performance = algorithme.score(X_test, y_test)\n",
    "        print performance\n",
    "        if performance >  best_perf:\n",
    "            best_algorithm = algorithme\n",
    "            best_perf = performance\n",
    "            \n",
    "        if 0<performance and performance<1:\n",
    "            performances[name] = [performance]\n",
    "    except Exception as e:\n",
    "        if \"label\" in str(e): print \"Algo de classification\"\n",
    "        else                : print str(e)[:50]\n",
    "    print \"=\"*30\n",
    "    "
   ]
  },
  {
   "cell_type": "code",
   "execution_count": 1040,
   "metadata": {
    "collapsed": false
   },
   "outputs": [
    {
     "data": {
      "text/plain": [
       "BaggingRegressor(base_estimator=None, bootstrap=True,\n",
       "         bootstrap_features=False, max_features=1.0, max_samples=1.0,\n",
       "         n_estimators=10, n_jobs=1, oob_score=False, random_state=None,\n",
       "         verbose=0, warm_start=False)"
      ]
     },
     "execution_count": 1040,
     "metadata": {},
     "output_type": "execute_result"
    }
   ],
   "source": [
    "best_algorithm"
   ]
  },
  {
   "cell_type": "code",
   "execution_count": 1041,
   "metadata": {
    "collapsed": false
   },
   "outputs": [
    {
     "data": {
      "text/plain": [
       "{'A Bagging regressor.': [0.89363290749173552],\n",
       " 'A decision tree regressor': [0.78656411824304062],\n",
       " 'A random forest regressor': [0.87482591449347191],\n",
       " 'An AdaBoost regressor.': [0.84665573962532092],\n",
       " 'An extra-trees regressor.': [0.8892725018596559],\n",
       " 'An extremely randomized t': [0.78966705616202626],\n",
       " 'Bayesian ARD regression.': [0.77296462239076491],\n",
       " 'Bayesian ridge regression': [0.7788989883815487],\n",
       " 'CCA Canonical Correlation': [0.72726597710178098],\n",
       " 'Cross-validated Lasso, us': [0.77700794563402864],\n",
       " 'Cross-validated Least Ang': [0.72542489032820889],\n",
       " 'Cross-validated Orthogona': [0.71832853997872403],\n",
       " 'Elastic Net model with it': [0.7777437408457335],\n",
       " 'Epsilon-Support Vector Re': [0.67120121826639123],\n",
       " 'Gradient Boosting for reg': [0.87629321015716188],\n",
       " 'Lasso linear model with i': [0.77701197070322292],\n",
       " 'Lasso model fit with Lars': [0.77689060801519694],\n",
       " 'Least Angle Regression mo': [0.72542489032820889],\n",
       " 'Linear Model trained with': [0.70067233694827202],\n",
       " 'Linear Support Vector Reg': [0.76864282447551302],\n",
       " 'Linear least squares with': [0.77743237460489401],\n",
       " 'Linear model fitted by mi': [0.77379884811181876],\n",
       " 'Linear regression with co': [0.69751341446121073],\n",
       " 'Nu Support Vector Regress': [0.65342535067588758],\n",
       " 'Ordinary least squar': [0.77700794563402809],\n",
       " 'Orthogonal Matching Pursu': [0.57323841220795979],\n",
       " 'PLS regression\\n\\n    PLSRe': [0.77711838376681863],\n",
       " 'Passive Aggressive Regres': [0.6348342149519598],\n",
       " 'RANSAC (RANdom SAmple Con': [0.22328792603060843],\n",
       " 'Regression based on k-nea': [0.80243667812558095],\n",
       " 'Ridge regression with bui': [0.77942622119126526],\n",
       " 'The Gaussian Process mode': [0.62844748306088982],\n",
       " 'Theil-Sen Estimator': [0.66152396124088431]}"
      ]
     },
     "execution_count": 1041,
     "metadata": {},
     "output_type": "execute_result"
    }
   ],
   "source": [
    "performances"
   ]
  },
  {
   "cell_type": "code",
   "execution_count": 921,
   "metadata": {
    "collapsed": false
   },
   "outputs": [],
   "source": [
    "df = pd.DataFrame(performances).T"
   ]
  },
  {
   "cell_type": "code",
   "execution_count": 923,
   "metadata": {
    "collapsed": false
   },
   "outputs": [],
   "source": [
    "col_name = \"performance\"\n",
    "df.columns = [col_name]"
   ]
  },
  {
   "cell_type": "code",
   "execution_count": 924,
   "metadata": {
    "collapsed": false
   },
   "outputs": [],
   "source": [
    "df = df.sort_values(col_name)"
   ]
  },
  {
   "cell_type": "code",
   "execution_count": 925,
   "metadata": {
    "collapsed": false
   },
   "outputs": [
    {
     "data": {
      "text/html": [
       "<div>\n",
       "<table border=\"1\" class=\"dataframe\">\n",
       "  <thead>\n",
       "    <tr style=\"text-align: right;\">\n",
       "      <th></th>\n",
       "      <th>performance</th>\n",
       "    </tr>\n",
       "  </thead>\n",
       "  <tbody>\n",
       "    <tr>\n",
       "      <th>RANSAC (RANdom SAmple Con</th>\n",
       "      <td>0.521361</td>\n",
       "    </tr>\n",
       "    <tr>\n",
       "      <th>Orthogonal Matching Pursu</th>\n",
       "      <td>0.573238</td>\n",
       "    </tr>\n",
       "    <tr>\n",
       "      <th>The Gaussian Process mode</th>\n",
       "      <td>0.628447</td>\n",
       "    </tr>\n",
       "    <tr>\n",
       "      <th>Theil-Sen Estimator</th>\n",
       "      <td>0.652340</td>\n",
       "    </tr>\n",
       "    <tr>\n",
       "      <th>Nu Support Vector Regress</th>\n",
       "      <td>0.653425</td>\n",
       "    </tr>\n",
       "    <tr>\n",
       "      <th>Passive Aggressive Regres</th>\n",
       "      <td>0.657677</td>\n",
       "    </tr>\n",
       "    <tr>\n",
       "      <th>Epsilon-Support Vector Re</th>\n",
       "      <td>0.671201</td>\n",
       "    </tr>\n",
       "    <tr>\n",
       "      <th>Linear regression with co</th>\n",
       "      <td>0.697513</td>\n",
       "    </tr>\n",
       "    <tr>\n",
       "      <th>Linear Model trained with</th>\n",
       "      <td>0.700672</td>\n",
       "    </tr>\n",
       "    <tr>\n",
       "      <th>Cross-validated Orthogona</th>\n",
       "      <td>0.718329</td>\n",
       "    </tr>\n",
       "    <tr>\n",
       "      <th>Cross-validated Least Ang</th>\n",
       "      <td>0.725425</td>\n",
       "    </tr>\n",
       "    <tr>\n",
       "      <th>Least Angle Regression mo</th>\n",
       "      <td>0.725425</td>\n",
       "    </tr>\n",
       "    <tr>\n",
       "      <th>CCA Canonical Correlation</th>\n",
       "      <td>0.727266</td>\n",
       "    </tr>\n",
       "    <tr>\n",
       "      <th>Linear model fitted by mi</th>\n",
       "      <td>0.766903</td>\n",
       "    </tr>\n",
       "    <tr>\n",
       "      <th>Linear Support Vector Reg</th>\n",
       "      <td>0.768747</td>\n",
       "    </tr>\n",
       "    <tr>\n",
       "      <th>Bayesian ARD regression.</th>\n",
       "      <td>0.772965</td>\n",
       "    </tr>\n",
       "    <tr>\n",
       "      <th>Lasso model fit with Lars</th>\n",
       "      <td>0.776891</td>\n",
       "    </tr>\n",
       "    <tr>\n",
       "      <th>Ordinary least squar</th>\n",
       "      <td>0.777008</td>\n",
       "    </tr>\n",
       "    <tr>\n",
       "      <th>Cross-validated Lasso, us</th>\n",
       "      <td>0.777008</td>\n",
       "    </tr>\n",
       "    <tr>\n",
       "      <th>Lasso linear model with i</th>\n",
       "      <td>0.777012</td>\n",
       "    </tr>\n",
       "    <tr>\n",
       "      <th>PLS regression\\n\\n    PLSRe</th>\n",
       "      <td>0.777118</td>\n",
       "    </tr>\n",
       "    <tr>\n",
       "      <th>Linear least squares with</th>\n",
       "      <td>0.777432</td>\n",
       "    </tr>\n",
       "    <tr>\n",
       "      <th>Elastic Net model with it</th>\n",
       "      <td>0.777744</td>\n",
       "    </tr>\n",
       "    <tr>\n",
       "      <th>Bayesian ridge regression</th>\n",
       "      <td>0.778899</td>\n",
       "    </tr>\n",
       "    <tr>\n",
       "      <th>Ridge regression with bui</th>\n",
       "      <td>0.779426</td>\n",
       "    </tr>\n",
       "    <tr>\n",
       "      <th>A decision tree regressor</th>\n",
       "      <td>0.795177</td>\n",
       "    </tr>\n",
       "    <tr>\n",
       "      <th>Regression based on k-nea</th>\n",
       "      <td>0.802437</td>\n",
       "    </tr>\n",
       "    <tr>\n",
       "      <th>An extremely randomized t</th>\n",
       "      <td>0.823985</td>\n",
       "    </tr>\n",
       "    <tr>\n",
       "      <th>An AdaBoost regressor.</th>\n",
       "      <td>0.858173</td>\n",
       "    </tr>\n",
       "    <tr>\n",
       "      <th>Gradient Boosting for reg</th>\n",
       "      <td>0.868837</td>\n",
       "    </tr>\n",
       "    <tr>\n",
       "      <th>A random forest regressor</th>\n",
       "      <td>0.880407</td>\n",
       "    </tr>\n",
       "    <tr>\n",
       "      <th>A Bagging regressor.</th>\n",
       "      <td>0.888020</td>\n",
       "    </tr>\n",
       "    <tr>\n",
       "      <th>An extra-trees regressor.</th>\n",
       "      <td>0.903944</td>\n",
       "    </tr>\n",
       "  </tbody>\n",
       "</table>\n",
       "</div>"
      ],
      "text/plain": [
       "                             performance\n",
       "RANSAC (RANdom SAmple Con       0.521361\n",
       "Orthogonal Matching Pursu       0.573238\n",
       "The Gaussian Process mode       0.628447\n",
       "Theil-Sen Estimator             0.652340\n",
       "Nu Support Vector Regress       0.653425\n",
       "Passive Aggressive Regres       0.657677\n",
       "Epsilon-Support Vector Re       0.671201\n",
       "Linear regression with co       0.697513\n",
       "Linear Model trained with       0.700672\n",
       "Cross-validated Orthogona       0.718329\n",
       "Cross-validated Least Ang       0.725425\n",
       "Least Angle Regression mo       0.725425\n",
       "CCA Canonical Correlation       0.727266\n",
       "Linear model fitted by mi       0.766903\n",
       "Linear Support Vector Reg       0.768747\n",
       "Bayesian ARD regression.        0.772965\n",
       "Lasso model fit with Lars       0.776891\n",
       "Ordinary least squar            0.777008\n",
       "Cross-validated Lasso, us       0.777008\n",
       "Lasso linear model with i       0.777012\n",
       "PLS regression\\n\\n    PLSRe     0.777118\n",
       "Linear least squares with       0.777432\n",
       "Elastic Net model with it       0.777744\n",
       "Bayesian ridge regression       0.778899\n",
       "Ridge regression with bui       0.779426\n",
       "A decision tree regressor       0.795177\n",
       "Regression based on k-nea       0.802437\n",
       "An extremely randomized t       0.823985\n",
       "An AdaBoost regressor.          0.858173\n",
       "Gradient Boosting for reg       0.868837\n",
       "A random forest regressor       0.880407\n",
       "A Bagging regressor.            0.888020\n",
       "An extra-trees regressor.       0.903944"
      ]
     },
     "execution_count": 925,
     "metadata": {},
     "output_type": "execute_result"
    }
   ],
   "source": [
    "df"
   ]
  },
  {
   "cell_type": "code",
   "execution_count": 908,
   "metadata": {
    "collapsed": false
   },
   "outputs": [],
   "source": [
    "liste_des_performances = df.performance.values\n",
    "gains = [0]\n",
    "for indice, performance in enumerate(liste_des_performances):\n",
    "    if indice>0:\n",
    "        previous_value = liste_des_performances[indice-1]\n",
    "        current_value  = liste_des_performances[indice]\n",
    "        gain = (current_value - previous_value) / previous_value\n",
    "        gains.append(round(gain*100, 2))\n",
    "df[\"gains\"] = gains"
   ]
  },
  {
   "cell_type": "code",
   "execution_count": 909,
   "metadata": {
    "collapsed": false
   },
   "outputs": [],
   "source": [
    "df = df.drop(\"gains\", axis=1)"
   ]
  },
  {
   "cell_type": "code",
   "execution_count": 910,
   "metadata": {
    "collapsed": false
   },
   "outputs": [
    {
     "data": {
      "text/html": [
       "<div>\n",
       "<table border=\"1\" class=\"dataframe\">\n",
       "  <thead>\n",
       "    <tr style=\"text-align: right;\">\n",
       "      <th></th>\n",
       "      <th>performance</th>\n",
       "    </tr>\n",
       "  </thead>\n",
       "  <tbody>\n",
       "    <tr>\n",
       "      <th>RANSAC (RANdom SAmple Con</th>\n",
       "      <td>0.521361</td>\n",
       "    </tr>\n",
       "    <tr>\n",
       "      <th>Orthogonal Matching Pursu</th>\n",
       "      <td>0.573238</td>\n",
       "    </tr>\n",
       "    <tr>\n",
       "      <th>The Gaussian Process mode</th>\n",
       "      <td>0.628447</td>\n",
       "    </tr>\n",
       "    <tr>\n",
       "      <th>Theil-Sen Estimator</th>\n",
       "      <td>0.652340</td>\n",
       "    </tr>\n",
       "    <tr>\n",
       "      <th>Nu Support Vector Regress</th>\n",
       "      <td>0.653425</td>\n",
       "    </tr>\n",
       "    <tr>\n",
       "      <th>Passive Aggressive Regres</th>\n",
       "      <td>0.657677</td>\n",
       "    </tr>\n",
       "    <tr>\n",
       "      <th>Epsilon-Support Vector Re</th>\n",
       "      <td>0.671201</td>\n",
       "    </tr>\n",
       "    <tr>\n",
       "      <th>Linear regression with co</th>\n",
       "      <td>0.697513</td>\n",
       "    </tr>\n",
       "    <tr>\n",
       "      <th>Linear Model trained with</th>\n",
       "      <td>0.700672</td>\n",
       "    </tr>\n",
       "    <tr>\n",
       "      <th>Cross-validated Orthogona</th>\n",
       "      <td>0.718329</td>\n",
       "    </tr>\n",
       "    <tr>\n",
       "      <th>Cross-validated Least Ang</th>\n",
       "      <td>0.725425</td>\n",
       "    </tr>\n",
       "    <tr>\n",
       "      <th>Least Angle Regression mo</th>\n",
       "      <td>0.725425</td>\n",
       "    </tr>\n",
       "    <tr>\n",
       "      <th>CCA Canonical Correlation</th>\n",
       "      <td>0.727266</td>\n",
       "    </tr>\n",
       "    <tr>\n",
       "      <th>Linear model fitted by mi</th>\n",
       "      <td>0.766903</td>\n",
       "    </tr>\n",
       "    <tr>\n",
       "      <th>Linear Support Vector Reg</th>\n",
       "      <td>0.768747</td>\n",
       "    </tr>\n",
       "    <tr>\n",
       "      <th>Bayesian ARD regression.</th>\n",
       "      <td>0.772965</td>\n",
       "    </tr>\n",
       "    <tr>\n",
       "      <th>Lasso model fit with Lars</th>\n",
       "      <td>0.776891</td>\n",
       "    </tr>\n",
       "    <tr>\n",
       "      <th>Ordinary least squar</th>\n",
       "      <td>0.777008</td>\n",
       "    </tr>\n",
       "    <tr>\n",
       "      <th>Cross-validated Lasso, us</th>\n",
       "      <td>0.777008</td>\n",
       "    </tr>\n",
       "    <tr>\n",
       "      <th>Lasso linear model with i</th>\n",
       "      <td>0.777012</td>\n",
       "    </tr>\n",
       "    <tr>\n",
       "      <th>PLS regression\\n\\n    PLSRe</th>\n",
       "      <td>0.777118</td>\n",
       "    </tr>\n",
       "    <tr>\n",
       "      <th>Linear least squares with</th>\n",
       "      <td>0.777432</td>\n",
       "    </tr>\n",
       "    <tr>\n",
       "      <th>Elastic Net model with it</th>\n",
       "      <td>0.777744</td>\n",
       "    </tr>\n",
       "    <tr>\n",
       "      <th>Bayesian ridge regression</th>\n",
       "      <td>0.778899</td>\n",
       "    </tr>\n",
       "    <tr>\n",
       "      <th>Ridge regression with bui</th>\n",
       "      <td>0.779426</td>\n",
       "    </tr>\n",
       "    <tr>\n",
       "      <th>A decision tree regressor</th>\n",
       "      <td>0.795177</td>\n",
       "    </tr>\n",
       "    <tr>\n",
       "      <th>Regression based on k-nea</th>\n",
       "      <td>0.802437</td>\n",
       "    </tr>\n",
       "    <tr>\n",
       "      <th>An extremely randomized t</th>\n",
       "      <td>0.823985</td>\n",
       "    </tr>\n",
       "    <tr>\n",
       "      <th>An AdaBoost regressor.</th>\n",
       "      <td>0.858173</td>\n",
       "    </tr>\n",
       "    <tr>\n",
       "      <th>Gradient Boosting for reg</th>\n",
       "      <td>0.868837</td>\n",
       "    </tr>\n",
       "    <tr>\n",
       "      <th>A random forest regressor</th>\n",
       "      <td>0.880407</td>\n",
       "    </tr>\n",
       "    <tr>\n",
       "      <th>A Bagging regressor.</th>\n",
       "      <td>0.888020</td>\n",
       "    </tr>\n",
       "    <tr>\n",
       "      <th>An extra-trees regressor.</th>\n",
       "      <td>0.903944</td>\n",
       "    </tr>\n",
       "  </tbody>\n",
       "</table>\n",
       "</div>"
      ],
      "text/plain": [
       "                             performance\n",
       "RANSAC (RANdom SAmple Con       0.521361\n",
       "Orthogonal Matching Pursu       0.573238\n",
       "The Gaussian Process mode       0.628447\n",
       "Theil-Sen Estimator             0.652340\n",
       "Nu Support Vector Regress       0.653425\n",
       "Passive Aggressive Regres       0.657677\n",
       "Epsilon-Support Vector Re       0.671201\n",
       "Linear regression with co       0.697513\n",
       "Linear Model trained with       0.700672\n",
       "Cross-validated Orthogona       0.718329\n",
       "Cross-validated Least Ang       0.725425\n",
       "Least Angle Regression mo       0.725425\n",
       "CCA Canonical Correlation       0.727266\n",
       "Linear model fitted by mi       0.766903\n",
       "Linear Support Vector Reg       0.768747\n",
       "Bayesian ARD regression.        0.772965\n",
       "Lasso model fit with Lars       0.776891\n",
       "Ordinary least squar            0.777008\n",
       "Cross-validated Lasso, us       0.777008\n",
       "Lasso linear model with i       0.777012\n",
       "PLS regression\\n\\n    PLSRe     0.777118\n",
       "Linear least squares with       0.777432\n",
       "Elastic Net model with it       0.777744\n",
       "Bayesian ridge regression       0.778899\n",
       "Ridge regression with bui       0.779426\n",
       "A decision tree regressor       0.795177\n",
       "Regression based on k-nea       0.802437\n",
       "An extremely randomized t       0.823985\n",
       "An AdaBoost regressor.          0.858173\n",
       "Gradient Boosting for reg       0.868837\n",
       "A random forest regressor       0.880407\n",
       "A Bagging regressor.            0.888020\n",
       "An extra-trees regressor.       0.903944"
      ]
     },
     "execution_count": 910,
     "metadata": {},
     "output_type": "execute_result"
    }
   ],
   "source": [
    "df"
   ]
  },
  {
   "cell_type": "code",
   "execution_count": 911,
   "metadata": {
    "collapsed": true
   },
   "outputs": [],
   "source": [
    "%matplotlib inline\n",
    "import matplotlib.pyplot as plt\n",
    "import matplotlib.ticker as ticker"
   ]
  },
  {
   "cell_type": "code",
   "execution_count": 912,
   "metadata": {
    "collapsed": false
   },
   "outputs": [
    {
     "data": {
      "image/png": "[encoded data removed]",
      "text/plain": [
       "<matplotlib.figure.Figure at 0x1218ce210>"
      ]
     },
     "metadata": {},
     "output_type": "display_data"
    }
   ],
   "source": [
    "df = df.sort_values(col_name)\n",
    "ax = df.plot(rot=45, x_compat=True)"
   ]
  },
  {
   "cell_type": "code",
   "execution_count": 913,
   "metadata": {
    "collapsed": false
   },
   "outputs": [
    {
     "data": {
      "image/png": "[encoded data removed]",
      "text/plain": [
       "<matplotlib.figure.Figure at 0x120093d50>"
      ]
     },
     "metadata": {},
     "output_type": "display_data"
    }
   ],
   "source": [
    "df = df.sort_values(col_name)\n",
    "ax = df.plot(rot=90, x_compat=True)\n",
    "ax.xaxis.set_ticklabels(df.index)\n",
    "ax.xaxis.set_major_locator(ticker.MultipleLocator(1))"
   ]
  },
  {
   "cell_type": "code",
   "execution_count": 914,
   "metadata": {
    "collapsed": false
   },
   "outputs": [
    {
     "data": {
      "text/plain": [
       "<matplotlib.axes._subplots.AxesSubplot at 0x11f3bd350>"
      ]
     },
     "execution_count": 914,
     "metadata": {},
     "output_type": "execute_result"
    },
    {
     "data": {
      "image/png": "[encoded data removed]",
      "text/plain": [
       "<matplotlib.figure.Figure at 0x122217950>"
      ]
     },
     "metadata": {},
     "output_type": "display_data"
    }
   ],
   "source": [
    "fig , axes = plt.subplots(1,1)\n",
    "fig.set_size_inches(9,3)\n",
    "df = df.sort_values(col_name )\n",
    "axes.xaxis.set_ticklabels(df.index)\n",
    "axes.xaxis.set_major_locator(ticker.MultipleLocator(1))\n",
    "df.plot(rot=45, ax=axes)\n"
   ]
  },
  {
   "cell_type": "code",
   "execution_count": 915,
   "metadata": {
    "collapsed": false
   },
   "outputs": [
    {
     "data": {
      "text/plain": [
       "<matplotlib.axes._subplots.AxesSubplot at 0x122834e90>"
      ]
     },
     "execution_count": 915,
     "metadata": {},
     "output_type": "execute_result"
    },
    {
     "data": {
      "image/png": "[encoded data removed]",
      "text/plain": [
       "<matplotlib.figure.Figure at 0x11f3ff5d0>"
      ]
     },
     "metadata": {},
     "output_type": "display_data"
    }
   ],
   "source": [
    "fig , axes = plt.subplots(1,1)\n",
    "fig.set_size_inches(9,3)\n",
    "df = df.sort_values(col_name )\n",
    "axes.xaxis.set_ticklabels(df.index)\n",
    "axes.xaxis.set_major_locator(ticker.MultipleLocator(1))\n",
    "df.plot(kind='bar', rot=90, ax=axes)"
   ]
  },
  {
   "cell_type": "code",
   "execution_count": 926,
   "metadata": {
    "collapsed": false,
    "scrolled": true
   },
   "outputs": [
    {
     "data": {
      "image/png": "[encoded data removed]",
      "text/plain": [
       "<matplotlib.figure.Figure at 0x12303c950>"
      ]
     },
     "metadata": {},
     "output_type": "display_data"
    }
   ],
   "source": [
    "new_labels = []\n",
    "for i, index in enumerate(df.index):\n",
    "    new_label = \"%s (%.2f)\"%(index,df.performance[i])\n",
    "    new_labels.append(new_label.replace(\"\\n\", \" \"))\n",
    "    \n",
    "fig , axes = plt.subplots(1,1)\n",
    "df.index = new_labels\n",
    "fig.set_size_inches(15,8)\n",
    "fig.subplots_adjust(left=0.65)\n",
    "df.sort_values(col_name).plot(kind='barh', ax=axes)\n",
    "axes.xaxis.set_major_locator(ticker.MultipleLocator(1))\n",
    "\n",
    "pass"
   ]
  },
  {
   "cell_type": "markdown",
   "metadata": {},
   "source": [
    "# 7) which scoring function ?"
   ]
  },
  {
   "cell_type": "code",
   "execution_count": 1014,
   "metadata": {
    "collapsed": true
   },
   "outputs": [],
   "source": [
    "def get_sklearn_score_functions(verbose = False):\n",
    "    \"\"\"\n",
    "    Explore all submodule of sklearn and fetch functions named as 'score'.\n",
    "    \n",
    "    Parameters :\n",
    "        debug = print or not stuff on console\n",
    "    Return :\n",
    "        dict : { module : [ score_functions] }\n",
    "    \"\"\"\n",
    "    from collections import defaultdict\n",
    "    import importlib\n",
    "    import sklearn\n",
    "    algos = defaultdict(list)\n",
    "    if verbose : print dir(sklearn)\n",
    "    for nom_module in dir(sklearn):    \n",
    "        if verbose : print nom_module\n",
    "        try:\n",
    "            to_import = \"sklearn.%s\"%nom_module\n",
    "            module    = importlib.import_module(to_import)\n",
    "            for nom_fonction in dir(module):\n",
    "                fonction = getattr(module, nom_fonction)\n",
    "                if \"score\" in nom_fonction:\n",
    "                    algos[nom_module].append(fonction)                                            \n",
    "        except Exception as e:\n",
    "            if verbose : print e\n",
    "        if verbose: print \"=\"*30\n",
    "    return algos"
   ]
  },
  {
   "cell_type": "code",
   "execution_count": 1120,
   "metadata": {
    "collapsed": false
   },
   "outputs": [],
   "source": [
    "scoring_modules = get_sklearn_score_functions(False)"
   ]
  },
  {
   "cell_type": "code",
   "execution_count": 1121,
   "metadata": {
    "collapsed": false
   },
   "outputs": [
    {
     "data": {
      "text/plain": [
       "['grid_search', 'metrics', 'learning_curve', 'cross_validation']"
      ]
     },
     "execution_count": 1121,
     "metadata": {},
     "output_type": "execute_result"
    }
   ],
   "source": [
    "scoring_modules.keys()"
   ]
  },
  {
   "cell_type": "code",
   "execution_count": 1122,
   "metadata": {
    "collapsed": false
   },
   "outputs": [
    {
     "data": {
      "text/plain": [
       "[<function sklearn.metrics.classification.accuracy_score>,\n",
       " <function sklearn.metrics.cluster.supervised.adjusted_mutual_info_score>,\n",
       " <function sklearn.metrics.cluster.supervised.adjusted_rand_score>,\n",
       " <function sklearn.metrics.ranking.average_precision_score>,\n",
       " <function sklearn.metrics.classification.brier_score_loss>,\n",
       " <function sklearn.metrics.classification.cohen_kappa_score>,\n",
       " <function sklearn.metrics.cluster.supervised.completeness_score>,\n",
       " <function sklearn.metrics.cluster.bicluster.consensus_score>,\n",
       " <function sklearn.metrics.regression.explained_variance_score>,\n",
       " <function sklearn.metrics.classification.f1_score>,\n",
       " <function sklearn.metrics.classification.fbeta_score>,\n",
       " <function sklearn.metrics.scorer.get_scorer>,\n",
       " <function sklearn.metrics.cluster.supervised.homogeneity_score>,\n",
       " <function sklearn.metrics.classification.jaccard_similarity_score>,\n",
       " <function sklearn.metrics.ranking.label_ranking_average_precision_score>,\n",
       " <function sklearn.metrics.scorer.make_scorer>,\n",
       " <function sklearn.metrics.cluster.supervised.mutual_info_score>,\n",
       " <function sklearn.metrics.cluster.supervised.normalized_mutual_info_score>,\n",
       " <function sklearn.metrics.classification.precision_recall_fscore_support>,\n",
       " <function sklearn.metrics.classification.precision_score>,\n",
       " <function sklearn.metrics.regression.r2_score>,\n",
       " <function sklearn.metrics.classification.recall_score>,\n",
       " <function sklearn.metrics.ranking.roc_auc_score>,\n",
       " <module 'sklearn.metrics.scorer' from '/Users/romain/anaconda/lib/python2.7/site-packages/sklearn/metrics/scorer.pyc'>,\n",
       " <function sklearn.metrics.cluster.unsupervised.silhouette_score>,\n",
       " <function sklearn.metrics.cluster.supervised.v_measure_score>]"
      ]
     },
     "execution_count": 1122,
     "metadata": {},
     "output_type": "execute_result"
    }
   ],
   "source": [
    "scoring_modules[\"metrics\"]"
   ]
  },
  {
   "cell_type": "markdown",
   "metadata": {},
   "source": [
    "# 8) tester les métriques sur un algo"
   ]
  },
  {
   "cell_type": "code",
   "execution_count": 1123,
   "metadata": {
    "collapsed": false
   },
   "outputs": [],
   "source": [
    "from sklearn.ensemble import BaggingRegressor"
   ]
  },
  {
   "cell_type": "markdown",
   "metadata": {},
   "source": [
    "# 8.1) l'algo a des performances variables"
   ]
  },
  {
   "cell_type": "code",
   "execution_count": 1124,
   "metadata": {
    "collapsed": false
   },
   "outputs": [
    {
     "name": "stdout",
     "output_type": "stream",
     "text": [
      "0 0.864308298517\n",
      "1 0.872388191873\n",
      "2 0.896502877567\n",
      "3 0.902320985165\n",
      "4 0.889625040299\n",
      "5 0.888391862904\n",
      "6 0.886485840152\n",
      "7 0.892823357494\n",
      "8 0.886280196265\n",
      "9 0.893460951837\n"
     ]
    }
   ],
   "source": [
    "performances = {}\n",
    "for i in range(10):\n",
    "    algorithme = BaggingRegressor()\n",
    "    algorithme.fit(X_train, y_train)\n",
    "    performance = algorithme.score(X_test, y_test)\n",
    "    print i, performance\n",
    "    performances[i] = [performance]"
   ]
  },
  {
   "cell_type": "code",
   "execution_count": 1125,
   "metadata": {
    "collapsed": false
   },
   "outputs": [
    {
     "data": {
      "text/plain": [
       "<matplotlib.axes._subplots.AxesSubplot at 0x121478410>"
      ]
     },
     "execution_count": 1125,
     "metadata": {},
     "output_type": "execute_result"
    },
    {
     "data": {
      "image/png": "[encoded data removed]",
      "text/plain": [
       "<matplotlib.figure.Figure at 0x121478550>"
      ]
     },
     "metadata": {},
     "output_type": "display_data"
    }
   ],
   "source": [
    "pd.DataFrame.from_dict(performances).T.plot()"
   ]
  },
  {
   "cell_type": "code",
   "execution_count": 1126,
   "metadata": {
    "collapsed": false
   },
   "outputs": [],
   "source": [
    "y_pred = algorithme.predict(X_test)"
   ]
  },
  {
   "cell_type": "code",
   "execution_count": 1127,
   "metadata": {
    "collapsed": false
   },
   "outputs": [
    {
     "name": "stdout",
     "output_type": "stream",
     "text": [
      "adjusted_mutual_info_score  =>  -0.00102838539037\n",
      "adjusted_rand_score  =>  -0.000545831557568\n",
      "completeness_score  =>  0.908329342313\n",
      "explained_variance_score  =>  0.895327873759\n",
      "homogeneity_score  =>  0.992862081114\n",
      "mutual_info_score  =>  4.61866319084\n",
      "normalized_mutual_info_score  =>  0.949655601334\n",
      "r2_score  =>  0.893460951837\n",
      "v_measure_score  =>  0.948716420696\n"
     ]
    }
   ],
   "source": [
    "score_par_metric = {}\n",
    "for scoring_function in scoring_functions[\"metrics\"]:\n",
    "    try:\n",
    "        info         = str(scoring_function)\n",
    "        nom_metrique = info[info.find(\" \"):info.find(\" at \")].strip()\n",
    "        score_algo   = scoring_function(y_test, y_pred)\n",
    "        score_par_metric[nom_metrique] =  [score_algo]\n",
    "        print nom_metrique, \" => \", score_algo\n",
    "    except:\n",
    "        pass"
   ]
  },
  {
   "cell_type": "code",
   "execution_count": 1128,
   "metadata": {
    "collapsed": false
   },
   "outputs": [],
   "source": [
    "df_metriques = pd.DataFrame.from_dict(score_par_metric).T"
   ]
  },
  {
   "cell_type": "code",
   "execution_count": 1132,
   "metadata": {
    "collapsed": false
   },
   "outputs": [
    {
     "data": {
      "text/html": [
       "<div>\n",
       "<table border=\"1\" class=\"dataframe\">\n",
       "  <thead>\n",
       "    <tr style=\"text-align: right;\">\n",
       "      <th></th>\n",
       "      <th>score</th>\n",
       "    </tr>\n",
       "  </thead>\n",
       "  <tbody>\n",
       "    <tr>\n",
       "      <th>adjusted_mutual_info_score</th>\n",
       "      <td>-0.001028</td>\n",
       "    </tr>\n",
       "    <tr>\n",
       "      <th>adjusted_rand_score</th>\n",
       "      <td>-0.000546</td>\n",
       "    </tr>\n",
       "    <tr>\n",
       "      <th>r2_score</th>\n",
       "      <td>0.893461</td>\n",
       "    </tr>\n",
       "    <tr>\n",
       "      <th>explained_variance_score</th>\n",
       "      <td>0.895328</td>\n",
       "    </tr>\n",
       "    <tr>\n",
       "      <th>completeness_score</th>\n",
       "      <td>0.908329</td>\n",
       "    </tr>\n",
       "    <tr>\n",
       "      <th>v_measure_score</th>\n",
       "      <td>0.948716</td>\n",
       "    </tr>\n",
       "    <tr>\n",
       "      <th>normalized_mutual_info_score</th>\n",
       "      <td>0.949656</td>\n",
       "    </tr>\n",
       "    <tr>\n",
       "      <th>homogeneity_score</th>\n",
       "      <td>0.992862</td>\n",
       "    </tr>\n",
       "    <tr>\n",
       "      <th>mutual_info_score</th>\n",
       "      <td>4.618663</td>\n",
       "    </tr>\n",
       "  </tbody>\n",
       "</table>\n",
       "</div>"
      ],
      "text/plain": [
       "                                 score\n",
       "adjusted_mutual_info_score   -0.001028\n",
       "adjusted_rand_score          -0.000546\n",
       "r2_score                      0.893461\n",
       "explained_variance_score      0.895328\n",
       "completeness_score            0.908329\n",
       "v_measure_score               0.948716\n",
       "normalized_mutual_info_score  0.949656\n",
       "homogeneity_score             0.992862\n",
       "mutual_info_score             4.618663"
      ]
     },
     "execution_count": 1132,
     "metadata": {},
     "output_type": "execute_result"
    }
   ],
   "source": [
    "colonne_de_score = \"score\"\n",
    "df_metriques.columns = [colonne_de_score]\n",
    "df_metriques.sort_values(colonne_de_score)"
   ]
  },
  {
   "cell_type": "code",
   "execution_count": 1131,
   "metadata": {
    "collapsed": false
   },
   "outputs": [
    {
     "data": {
      "text/plain": [
       "<matplotlib.axes._subplots.AxesSubplot at 0x123761910>"
      ]
     },
     "execution_count": 1131,
     "metadata": {},
     "output_type": "execute_result"
    },
    {
     "data": {
      "image/png": "[encoded data removed]",
      "text/plain": [
       "<matplotlib.figure.Figure at 0x123761510>"
      ]
     },
     "metadata": {},
     "output_type": "display_data"
    }
   ],
   "source": [
    "df_metriques.sort_values(by=colonne_de_score).plot(kind=\"barh\")"
   ]
  },
  {
   "cell_type": "markdown",
   "metadata": {},
   "source": [
    "# on s'intéresse en général au r2 et à la variance expliquée"
   ]
  }
 ],
 "metadata": {
  "kernelspec": {
   "display_name": "Python [Root]",
   "language": "python",
   "name": "Python [Root]"
  },
  "language_info": {
   "codemirror_mode": {
    "name": "ipython",
    "version": 2
   },
   "file_extension": ".py",
   "mimetype": "text/x-python",
   "name": "python",
   "nbconvert_exporter": "python",
   "pygments_lexer": "ipython2",
   "version": "2.7.11"
  }
 },
 "nbformat": 4,
 "nbformat_minor": 0
}
