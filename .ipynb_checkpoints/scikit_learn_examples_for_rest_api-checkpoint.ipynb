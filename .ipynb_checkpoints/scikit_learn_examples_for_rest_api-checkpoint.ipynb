{
 "cells": [
  {
   "cell_type": "markdown",
   "metadata": {},
   "source": [
    "# Scikit Learn"
   ]
  },
  {
   "cell_type": "code",
   "execution_count": 1,
   "metadata": {
    "collapsed": true
   },
   "outputs": [],
   "source": [
    "from sklearn import datasets"
   ]
  },
  {
   "cell_type": "markdown",
   "metadata": {},
   "source": [
    "## 1) Import de dataset"
   ]
  },
  {
   "cell_type": "code",
   "execution_count": 2,
   "metadata": {
    "collapsed": true
   },
   "outputs": [],
   "source": [
    "boston = datasets.load_boston()"
   ]
  },
  {
   "cell_type": "code",
   "execution_count": 19,
   "metadata": {
    "collapsed": false
   },
   "outputs": [
    {
     "name": "stdout",
     "output_type": "stream",
     "text": [
      "Boston House Prices dataset\n",
      "\n",
      "Notes\n",
      "------\n",
      "Data Set Characteristics:  \n",
      "\n",
      "    :Number of Instances: 506 \n",
      "\n",
      "    :Number of Attributes: 13 numeric/categorical predictive\n",
      "    \n",
      "    :Median Value (attribute 14) is usually the target\n",
      "\n",
      "    :Attribute Information (in order):\n",
      "        - CRIM     per capita crime rate by town\n",
      "        - ZN       proportion of residential land zoned for lots over 25,000 sq.ft.\n",
      "        - INDUS    proportion of non-retail business acres per town\n",
      "        - CHAS     Charles River dummy variable (= 1 if tract bounds river; 0 otherwise)\n",
      "        - NOX      nitric oxides concentration (parts per 10 million)\n",
      "        - RM       average number of rooms per dwelling\n",
      "        - AGE      proportion of owner-occupied units built prior to 1940\n",
      "        - DIS      weighted distances to five Boston employment centres\n",
      "        - RAD      index of accessibility to radial highways\n",
      "        - TAX      full-value property-tax rate per $10,000\n",
      "        - PTRATIO  pupil-teacher ratio by town\n",
      "        - B        1000(Bk - 0.63)^2 where Bk is the proportion of blacks by town\n",
      "        - LSTAT    % lower status of the population\n",
      "        - MEDV     Median value of owner-occupied homes in $1000's\n",
      "\n",
      "    :Missing Attribute Values: None\n",
      "\n",
      "    :Creator: Harrison, D. and Rubinfeld, D.L.\n",
      "\n",
      "This is a copy of UCI ML housing dataset.\n",
      "http://archive.ics.uci.edu/ml/datasets/Housing\n",
      "\n",
      "\n",
      "This dataset was taken from the StatLib library which is maintained at Carnegie Mellon University.\n",
      "\n",
      "The Boston house-price data of Harrison, D. and Rubinfeld, D.L. 'Hedonic\n",
      "prices and the demand for clean air', J. Environ. Economics & Management,\n",
      "vol.5, 81-102, 1978.   Used in Belsley, Kuh & Welsch, 'Regression diagnostics\n",
      "...', Wiley, 1980.   N.B. Various transformations are used in the table on\n",
      "pages 244-261 of the latter.\n",
      "\n",
      "The Boston house-price data has been used in many machine learning papers that address regression\n",
      "problems.   \n",
      "     \n",
      "**References**\n",
      "\n",
      "   - Belsley, Kuh & Welsch, 'Regression diagnostics: Identifying Influential Data and Sources of Collinearity', Wiley, 1980. 244-261.\n",
      "   - Quinlan,R. (1993). Combining Instance-Based and Model-Based Learning. In Proceedings on the Tenth International Conference of Machine Learning, 236-243, University of Massachusetts, Amherst. Morgan Kaufmann.\n",
      "   - many more! (see http://archive.ics.uci.edu/ml/datasets/Housing)\n",
      "\n"
     ]
    }
   ],
   "source": [
    "print(boston[\"DESCR\"])"
   ]
  },
  {
   "cell_type": "code",
   "execution_count": null,
   "metadata": {
    "collapsed": true
   },
   "outputs": [],
   "source": [
    "X = boston[\"data\"]\n",
    "y = boston[\"target\"]"
   ]
  },
  {
   "cell_type": "markdown",
   "metadata": {},
   "source": [
    "## 2) separer le jeu d'apprentissage du jeu de test"
   ]
  },
  {
   "cell_type": "code",
   "execution_count": 21,
   "metadata": {
    "collapsed": true
   },
   "outputs": [],
   "source": []
  },
  {
   "cell_type": "code",
   "execution_count": 22,
   "metadata": {
    "collapsed": true
   },
   "outputs": [],
   "source": [
    "X_train, X_test, y_train, y_test = train_test_split(X, y, test_size=0.33)"
   ]
  },
  {
   "cell_type": "markdown",
   "metadata": {},
   "source": [
    "## 3) Standardiser les valeurs"
   ]
  },
  {
   "cell_type": "code",
   "execution_count": 50,
   "metadata": {
    "collapsed": false
   },
   "outputs": [],
   "source": [
    "\n",
    "scaler = StandardScaler()\n",
    "scaler.fit(X_train)                 # Il ne faut fiter que sur les data d'entrainement\n",
    "X_train = scaler.transform(X_train)\n",
    "X_test  = scaler.transform(X_test)  # apply same transformation to test data\n",
    "scaler = StandardScaler()\n",
    "scaler.fit(X)                 # Il ne faut fiter que sur les data d'entrainement\n",
    "X_scaled = scaler.transform(X)"
   ]
  },
  {
   "cell_type": "markdown",
   "metadata": {},
   "source": [
    "## 4) choisir un algo et le tester\n"
   ]
  },
  {
   "cell_type": "code",
   "execution_count": 59,
   "metadata": {
    "collapsed": false
   },
   "outputs": [
    {
     "data": {
      "text/plain": [
       "0.89955260492389488"
      ]
     },
     "execution_count": 59,
     "metadata": {},
     "output_type": "execute_result"
    }
   ],
   "source": [
    "parameters = {  'C'       : [190, 200, 250, 260]   ,\n",
    "                'kernel'  : ['rbf'],\n",
    "                'gamma'   : [ 0.03],\n",
    "                  \"epsilon\" : [1.5, 2, 2.5],\n",
    "                 \"degree\" : [1,2]}\n",
    "grid = grid_search.GridSearchCV(svm.SVR(), parameters, n_jobs=-1)\n",
    "grid.fit(X_train, y_train)\n",
    "model = grid.best_estimator_\n",
    "model.score(X_test, y_test)"
   ]
  },
  {
   "cell_type": "code",
   "execution_count": 62,
   "metadata": {
    "collapsed": false
   },
   "outputs": [],
   "source": [
    "df = pd.DataFrame()\n",
    "df[\"prediction\"] = model.predict(X_test)\n",
    "df[\"reel\"] = y_test\n",
    "df[\"diff\"] = df.reel-df.prediction\n",
    "df[\"pct_diff\"] = (df.reel-df.prediction)/df.reel"
   ]
  },
  {
   "cell_type": "code",
   "execution_count": 68,
   "metadata": {
    "collapsed": false
   },
   "outputs": [
    {
     "data": {
      "text/plain": [
       "['model_svr.pkl',\n",
       " 'model_svr.pkl_01.npy',\n",
       " 'model_svr.pkl_02.npy',\n",
       " 'model_svr.pkl_03.npy',\n",
       " 'model_svr.pkl_04.npy',\n",
       " 'model_svr.pkl_05.npy',\n",
       " 'model_svr.pkl_06.npy',\n",
       " 'model_svr.pkl_07.npy',\n",
       " 'model_svr.pkl_08.npy',\n",
       " 'model_svr.pkl_09.npy',\n",
       " 'model_svr.pkl_10.npy']"
      ]
     },
     "execution_count": 68,
     "metadata": {},
     "output_type": "execute_result"
    }
   ],
   "source": [
    "path_where_to_save =  'model_svr.pkl'\n",
    "joblib.dump(model, path_where_to_save) "
   ]
  },
  {
   "cell_type": "code",
   "execution_count": 69,
   "metadata": {
    "collapsed": true
   },
   "outputs": [],
   "source": [
    "clf = joblib.load(path_where_to_save) "
   ]
  },
  {
   "cell_type": "code",
   "execution_count": 70,
   "metadata": {
    "collapsed": false
   },
   "outputs": [
    {
     "data": {
      "text/plain": [
       "array([ 29.8535451 ,  18.21692409,  18.99883985,  16.2114115 ,\n",
       "        17.87910415,  27.22729395,  17.51819748,  20.89750229,\n",
       "        14.5776218 ,  18.29152894,  13.96051747,  22.22714253,\n",
       "        25.29999218,  25.48373186,  10.80014982,  14.94154674,\n",
       "        20.200154  ,   7.53705784,   9.04027807,  18.29355037,\n",
       "         9.85916745,  22.30128032,  18.81944853,  11.95909311,\n",
       "        24.20033665,  21.09011821,  25.38302821,  28.55120643,\n",
       "        43.1551601 ,  14.66823833,  10.16810437,  16.99970378,\n",
       "        15.31818266,  18.73615223,  34.36473998,  23.70914336,\n",
       "        17.57321298,  25.29955626,  21.95694118,  24.24801221,\n",
       "        15.8001418 ,  21.38348039,  15.70799662,  16.50020425,\n",
       "        15.46740576,  19.40019205,  20.70017291,  43.99992775,\n",
       "        20.35590791,  26.509882  ,  20.57751174,  19.31218208,\n",
       "        29.87219685,  25.2928855 ,  30.46919626,  11.69450922,\n",
       "        25.25882799,  16.68342493,  34.72727927,  20.78592903,\n",
       "        25.80782433,  21.79979691,  22.60687972,  23.227761  ,\n",
       "        34.68800041,  22.47110406,  18.10672973,  27.804091  ,\n",
       "        21.66418897,  15.16414046,  16.13526053,  22.41732342,\n",
       "        22.70039091,  22.09339176,  27.00038368,  21.74255838,\n",
       "        14.00263187,  25.10045637,  22.20404852,  22.15156223,\n",
       "        23.69087803,  21.82234101,  45.35924327,  23.39219642,\n",
       "        13.45669935,  35.30032382,  21.99981362,  15.62787112,\n",
       "        19.93194969,  32.9001292 ,  22.97491756,  22.94823205,\n",
       "        15.41788644,  23.68603662,  21.8778417 ,   6.70629219,\n",
       "        25.92825316,  18.58309451,  51.99973287,  24.23436565,\n",
       "        16.60019818,   6.19042957,  25.99969976,  31.30180117,\n",
       "        18.80015572,  11.39977232,  22.81459091,  22.22464454,\n",
       "        23.90008451,  23.27022134,  26.80400457,  25.02901604,\n",
       "        21.15238678,  11.39976714,  46.50021841,  30.00034884,\n",
       "        18.39990359,  25.79698525,  24.98027286,  10.20606551,\n",
       "        16.17101081,  43.91615519,  25.70027935,  35.43389778,\n",
       "        12.01661391,  29.60004521,  24.40775256,  35.46565127,\n",
       "        27.94165903,  18.36592758,  14.65523685,   9.99098607,\n",
       "        35.48164392,  33.12661967,   8.99976036,  15.33601751,\n",
       "        33.5920332 ,  17.39979288,  23.07140214,  20.5255882 ,\n",
       "        17.34235022,  48.00013815,   9.52325201,  21.53756111,\n",
       "        21.6482722 ,  30.99983882,  17.6997965 ,  31.23309114,\n",
       "        16.40019471,  26.86488041,  31.19382878,  43.10109771,\n",
       "        38.33600728,  11.79973467,  24.8001555 ,  20.8933356 ,\n",
       "        24.90032933,  23.69491645,  26.29996271,  35.19968205,\n",
       "        18.79974888,  24.68465824,   6.50155752,  22.87093262,\n",
       "        31.50851005,  29.70126261,  16.5330339 ,  17.60813706,\n",
       "        18.8998291 ,  35.1999288 ,  30.19978883,  16.00894073,\n",
       "        18.67197485,  20.52389194,  39.32095283,  19.39999251,\n",
       "        21.15501271,  17.47457487,  21.89498061,  48.00035504,\n",
       "        29.22167261,  22.07976618,  11.26153581,  16.29965104,\n",
       "        21.57246968,  15.21973301,  32.54712341,  15.76369773,\n",
       "        31.39979612,  26.50036978,  29.34353001,  25.69980591,\n",
       "        16.4001503 ,  14.18434085,  28.71781609,  19.84327999,\n",
       "        32.70012901,  18.38008913,  22.66252714,  21.35643993,\n",
       "         8.23148553,  33.78192768,  18.81986489,  25.44324206,\n",
       "        14.83421524,  13.89965679,  24.61314345,  11.98625837,\n",
       "        34.8599174 ,  26.80021338,  15.89420032,  30.55445663,\n",
       "        20.11564457,  49.09353368,  13.51005394,  15.81891687,\n",
       "        24.06090159,  22.24823531,  44.35940868,  20.40221698,\n",
       "        14.55255298,  10.09975955,  11.6785271 ,  26.09131826,\n",
       "        35.19970046,  19.96352759,  48.00036228,  17.29979373,\n",
       "        15.60029709,  25.03629491,  26.23722531,  44.52215064,\n",
       "        16.69983713,  17.7836957 ,  16.46199659,  18.60014319,\n",
       "        19.49976578,  18.1860802 ,  12.40039514,  16.39975149,\n",
       "         7.00036276,  22.82678356,  15.09979479,  16.77964277,\n",
       "        44.70018774,  25.09949894,  12.90012737,  20.72555708,\n",
       "        25.73849798,  32.99997231,  23.67323221,  28.69969673,\n",
       "        25.55202611,  16.60039149,  18.41288653,  21.60812444,\n",
       "        20.229241  ,  21.77184283,  34.39993156,  17.99958881,\n",
       "        11.89594502,  21.58595496,  14.54103408,  20.79152209,\n",
       "        10.82545118,  23.41476155,  11.6000498 ,  17.8669649 ,\n",
       "        28.24476395,  25.7148117 ,  23.91846816,  36.03403089,\n",
       "        20.32917946,  10.39164418,  34.90007156,  44.76103439,\n",
       "        25.99038647,  18.89029873,  23.61086164,  19.49987588,\n",
       "        22.49977637,  20.91850938,  35.40012761,  18.96990995,\n",
       "        21.87228031,  22.40002833,  15.39812961,  23.27525913,\n",
       "        24.92679973,  14.62569005,  12.19994324,  22.15729169,\n",
       "        47.99985455,  23.99996621,  16.50027488,  19.70012357,\n",
       "        21.53372783,  18.31553059,  12.1423274 ,  10.40010294,\n",
       "        50.96393181,  18.01215421,  34.52015089,  20.85429891,\n",
       "        25.36601931,  17.97928207,  10.6999426 ,  15.79991479,\n",
       "        15.89951415,  33.78412408,  20.00042256,  27.04771829,\n",
       "        20.58901815,  48.36965807,  24.56119238,  17.94362128,\n",
       "        28.60034347,  18.74611482,  15.79995474,  22.86353445,\n",
       "        29.19992576,   6.68001857,  24.60696645,  18.12043207,\n",
       "        26.20017965,  25.90019954,  31.872089  ,  35.08714546,\n",
       "        29.8487429 ,  22.29969413,  19.50569019,  22.07674476,\n",
       "        31.13581412,  22.49988317,   8.0581268 ,  18.40028259,\n",
       "        17.39386148,  21.25218237,   8.39952719])"
      ]
     },
     "execution_count": 70,
     "metadata": {},
     "output_type": "execute_result"
    }
   ],
   "source": [
    "clf.predict(X_train)"
   ]
  },
  {
   "cell_type": "code",
   "execution_count": null,
   "metadata": {
    "collapsed": true
   },
   "outputs": [],
   "source": []
  }
 ],
 "metadata": {
  "kernelspec": {
   "display_name": "Python [Root]",
   "language": "python",
   "name": "Python [Root]"
  },
  "language_info": {
   "codemirror_mode": {
    "name": "ipython",
    "version": 2
   },
   "file_extension": ".py",
   "mimetype": "text/x-python",
   "name": "python",
   "nbconvert_exporter": "python",
   "pygments_lexer": "ipython2",
   "version": "2.7.11"
  }
 },
 "nbformat": 4,
 "nbformat_minor": 0
}
